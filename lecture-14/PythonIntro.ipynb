{
 "cells": [
  {
   "cell_type": "markdown",
   "metadata": {},
   "source": [
    "Python\n",
    "======\n",
    "\n",
    "When I discovered Python in around the year 2000 it was a revelation.\n",
    "\n",
    "Before that I had programmed almost entirely in C or Basic. Python\n",
    "was a huge improvement in usability over those languages. (At the time I didn't know about Scheme or Lisp or Smalltalk or Javascript \n",
    "or R - all languages I strongly prefer today).Sometime in the last few years Python has experienced rapid growth as\n",
    "a data science language with packages like numpy, scipy, sklearn, etc \n",
    "providing a large library base for data science. If you had to compare R and Python in terms of libraries, you'd say R \n",
    "is more the statistician's language and Python is more the data scientist's.\n",
    "\n",
    "I personally think from a design point of view R is better in many ways. But \n",
    "some machine learning implementations are better supported in Python. You just\n",
    "have to put up with it.\n",
    "\n"
   ]
  },
  {
   "cell_type": "markdown",
   "metadata": {},
   "source": [
    "Jupyter\n",
    "=======\n",
    "\n",
    "Jupyter (specifically Jupyter Lab) is roughly the equivalent of Rstudio for Python. It places a much higher emphasis on Notebooks.\n",
    "\n",
    "Docker\n",
    "======\n",
    "\n",
    "You can run a Jupyter lab session from inside an extended rocker/verse image with these lines:\n",
    "\n",
    "```\n",
    "RUN apt update -y && apt install -y python3-pip\n",
    "RUN pip3 install jupyter jupyterlab\n",
    "```\n",
    "\n",
    "A similar command line to the one we've been using to start RStudio can start Jupyter:\n",
    "\n",
    "```\n",
    "docker run -p 8765:8765 -v \\\n",
    " `pwd`:/home/rstudio \\\n",
    "  -e PASSWORD=some_password \\\n",
    "  -it l14 sudo -H -u rstudio /bin/bash \\\n",
    "  -c \"cd ~/; jupyter lab --ip 0.0.0.0 --port 8765\"\n",
    "```\n",
    "\n",
    "Note that you want to replace `pwd` with something like \"$(pwd)\" if you have spaces in your path on a mac. You might need to literally type your folder location if you are running in windows."
   ]
  },
  {
   "cell_type": "markdown",
   "metadata": {},
   "source": [
    "Python Basics\n",
    "=============\n",
    "\n",
    "Python supports the usual programming language things:"
   ]
  },
  {
   "cell_type": "code",
   "execution_count": 1,
   "metadata": {},
   "outputs": [
    {
     "data": {
      "text/plain": [
       "2"
      ]
     },
     "execution_count": 1,
     "metadata": {},
     "output_type": "execute_result"
    }
   ],
   "source": [
    "1+1"
   ]
  },
  {
   "cell_type": "markdown",
   "metadata": {},
   "source": [
    "Python is not, at base, an array language."
   ]
  },
  {
   "cell_type": "code",
   "execution_count": 3,
   "metadata": {},
   "outputs": [
    {
     "ename": "TypeError",
     "evalue": "unsupported operand type(s) for +: 'int' and 'list'",
     "output_type": "error",
     "traceback": [
      "\u001b[0;31m---------------------------------------------------------------------------\u001b[0m",
      "\u001b[0;31mTypeError\u001b[0m                                 Traceback (most recent call last)",
      "\u001b[0;32m<ipython-input-3-e451aea32610>\u001b[0m in \u001b[0;36m<module>\u001b[0;34m\u001b[0m\n\u001b[0;32m----> 1\u001b[0;31m \u001b[0;36m3\u001b[0m \u001b[0;34m+\u001b[0m \u001b[0;34m[\u001b[0m\u001b[0;36m1\u001b[0m\u001b[0;34m,\u001b[0m\u001b[0;36m2\u001b[0m\u001b[0;34m,\u001b[0m\u001b[0;36m3\u001b[0m\u001b[0;34m]\u001b[0m\u001b[0;34m\u001b[0m\u001b[0;34m\u001b[0m\u001b[0m\n\u001b[0m",
      "\u001b[0;31mTypeError\u001b[0m: unsupported operand type(s) for +: 'int' and 'list'"
     ]
    }
   ],
   "source": [
    "3 + [1,2,3]"
   ]
  },
  {
   "cell_type": "markdown",
   "metadata": {},
   "source": [
    "In fact, the built in list type is polymorphic:"
   ]
  },
  {
   "cell_type": "code",
   "execution_count": 4,
   "metadata": {},
   "outputs": [
    {
     "data": {
      "text/plain": [
       "['x', 1, 'y', []]"
      ]
     },
     "execution_count": 4,
     "metadata": {},
     "output_type": "execute_result"
    }
   ],
   "source": [
    "[\"x\",1,\"y\",[]]"
   ]
  },
  {
   "cell_type": "markdown",
   "metadata": {},
   "source": [
    "This makes the built in lists less than efficient for doing numerical computations. We'll have to use a library to implement similar features in Python.\n",
    "\n",
    "Object Orientation\n",
    "==================\n",
    "\n",
    "Python is object oriented in a much more traditional sense than R. Everything in Python is an object. Unlike in R, the primary way to experience their objectness is by calling methods:"
   ]
  },
  {
   "cell_type": "code",
   "execution_count": 7,
   "metadata": {},
   "outputs": [
    {
     "data": {
      "text/plain": [
       "[1, 2, 3, 'Some value']"
      ]
     },
     "execution_count": 7,
     "metadata": {},
     "output_type": "execute_result"
    }
   ],
   "source": [
    "l = [1,2,3]\n",
    "l.append(\"Some value\")\n",
    "l"
   ]
  },
  {
   "cell_type": "markdown",
   "metadata": {},
   "source": [
    "Note a few things here.\n",
    "\n",
    "1. `=` is the assignment operator. The only one. Unlike R.\n",
    "2. we use `.` to mean \"access a method or property of the object before the .\" In R \".\" is just another character that might appear in a variable name and has no special properties. R's `$` is the closest thing to `.` but `.` does more. `$` is not an allowed character in python variables and doesn't have a meaning.\n",
    "3. `l.append` is the name of the \"append\" method on the \"l\" object (a list). Note that calling append \"mutates\" the list bound to \"l\". This is atypical for R where we typically create new values rather than mutate old ones.\n",
    "4. Note again that we can put different types of things in our list.\n",
    "\n",
    "Numbers are, of course, immutable. \n",
    "\n",
    "Everything really is an object in a sense. You can call methods on numbers:"
   ]
  },
  {
   "cell_type": "code",
   "execution_count": 13,
   "metadata": {},
   "outputs": [
    {
     "data": {
      "text/plain": [
       "b'\\n\\x00\\x00\\x00\\x00\\x00\\x00\\x00'"
      ]
     },
     "execution_count": 13,
     "metadata": {},
     "output_type": "execute_result"
    }
   ],
   "source": [
    "(10).to_bytes(8,\"little\")\n"
   ]
  },
  {
   "cell_type": "markdown",
   "metadata": {},
   "source": [
    "Variables, Bindings, Environments, Functions\n",
    "============================================\n",
    "\n",
    "Python is somewhat simple compared to R here. `=` introduces a variable bindings in the local scope exclusively. At the top level `=` introduces a global variable.\n",
    "Here we create a binding to \"x\" of \"10\" at the top level. The \"=\" sign creates a local binding inside the body of the function f. In the body of the function \"x\" refers to that binding."
   ]
  },
  {
   "cell_type": "code",
   "execution_count": 17,
   "metadata": {},
   "outputs": [
    {
     "data": {
      "text/plain": [
       "[11, 10]"
      ]
     },
     "execution_count": 17,
     "metadata": {},
     "output_type": "execute_result"
    }
   ],
   "source": [
    "x = 10\n",
    "def f():\n",
    "    x=11\n",
    "    return x\n",
    "[f(),x]"
   ]
  },
  {
   "cell_type": "markdown",
   "metadata": {},
   "source": [
    "Things to note:\n",
    "    \n",
    "1. Python is whitespace sensitive. The body of functions must be indented compared to the enclosing context. That \":\" at the end of the `def` line is also required.\n",
    "2. Unlike in R we _must_ explicitely return a value from functions using \"return\". \"return\" terminates the function immediately if it is placed in some non-tail position.\n",
    "3. These are some of the worst features of python that tell you it was designed by a rube.\n",
    "\n",
    "Mutating an Enclosing Variable\n",
    "==============================\n",
    "\n",
    "If you want to change global variable binding (as you would do with \"<<-\" in R) you have to make this desire known by declaring the variable global in your function."
   ]
  },
  {
   "cell_type": "code",
   "execution_count": 20,
   "metadata": {},
   "outputs": [
    {
     "data": {
      "text/plain": [
       "[100, 100]"
      ]
     },
     "execution_count": 20,
     "metadata": {},
     "output_type": "execute_result"
    }
   ],
   "source": [
    "y = 10;\n",
    "def set_y(v):\n",
    "    global y\n",
    "    y = v\n",
    "    return y\n",
    "[set_y(100),y]"
   ]
  },
  {
   "cell_type": "markdown",
   "metadata": {},
   "source": [
    "Things become increasingly absurd as you may nest scopes:"
   ]
  },
  {
   "cell_type": "code",
   "execution_count": 21,
   "metadata": {},
   "outputs": [
    {
     "data": {
      "text/plain": [
       "'what'"
      ]
     },
     "execution_count": 21,
     "metadata": {},
     "output_type": "execute_result"
    }
   ],
   "source": [
    "def absurdity():\n",
    "    z = 10;\n",
    "    def inner_absurdity(v):\n",
    "        nonlocal z   \n",
    "        z = v\n",
    "    inner_absurdity(\"what\");\n",
    "    return z;\n",
    "absurdity()"
   ]
  },
  {
   "cell_type": "markdown",
   "metadata": {},
   "source": [
    "A global variable cannot be declared \"nonlocal\" even though the relationship which obtains between a function scope and a global scope is the same as one obtained between two function scopes. This doesn't really matter that much but it chaps my britches.\n",
    "\n",
    "Conditionals and Loops\n",
    "======================\n",
    "\n",
    "If\n",
    "--"
   ]
  },
  {
   "cell_type": "code",
   "execution_count": 22,
   "metadata": {},
   "outputs": [
    {
     "name": "stdout",
     "output_type": "stream",
     "text": [
      "Hiho\n"
     ]
    }
   ],
   "source": [
    "x = 1\n",
    "y = 2\n",
    "if x < y :\n",
    "    print(\"Hiho\")\n",
    "else:\n",
    "    print(\"Silver\")"
   ]
  },
  {
   "cell_type": "markdown",
   "metadata": {},
   "source": [
    "Note the \":\" and indentation. Also note that you do not need an enclosing () for the conditions.\n",
    "If statements can have many legs:"
   ]
  },
  {
   "cell_type": "code",
   "execution_count": null,
   "metadata": {},
   "outputs": [],
   "source": [
    "if x < y:\n",
    "    print(\"smaller\")\n",
    "elif x == y:\n",
    "    print(\"equal\")\n",
    "else:\n",
    "    print(\"larger\")"
   ]
  },
  {
   "cell_type": "markdown",
   "metadata": {},
   "source": [
    "Finally note that if statements don't produce any values. They only perform side effects. The following function returns no value at all."
   ]
  },
  {
   "cell_type": "code",
   "execution_count": 23,
   "metadata": {},
   "outputs": [],
   "source": [
    "def if_example(x,y):\n",
    "    if x < y:\n",
    "        \"smaller\"\n",
    "    elif x == y:\n",
    "        \"equal\"\n",
    "    else:\n",
    "        \"larger\""
   ]
  },
  {
   "cell_type": "markdown",
   "metadata": {},
   "source": [
    "It should look like this:"
   ]
  },
  {
   "cell_type": "code",
   "execution_count": 25,
   "metadata": {},
   "outputs": [],
   "source": [
    "def if_example(x,y):\n",
    "    if x < y:\n",
    "        return \"smaller\"\n",
    "    elif x == y:\n",
    "        return \"equal\"\n",
    "    else:\n",
    "        return \"larger\""
   ]
  },
  {
   "cell_type": "markdown",
   "metadata": {},
   "source": [
    "Loops and Comprehensions\n",
    "------------------------\n",
    "\n",
    "Loops come in a few flavors."
   ]
  },
  {
   "cell_type": "code",
   "execution_count": 26,
   "metadata": {},
   "outputs": [
    {
     "name": "stdout",
     "output_type": "stream",
     "text": [
      "1\n",
      "2\n",
      "3\n"
     ]
    }
   ],
   "source": [
    "for x in [1,2,3]:\n",
    "    print(x)"
   ]
  },
  {
   "cell_type": "code",
   "execution_count": 27,
   "metadata": {},
   "outputs": [
    {
     "name": "stdout",
     "output_type": "stream",
     "text": [
      "0\n",
      "1\n",
      "2\n",
      "3\n",
      "4\n",
      "5\n",
      "6\n",
      "7\n",
      "8\n",
      "9\n"
     ]
    }
   ],
   "source": [
    "for x in range(10):\n",
    "    print(x)"
   ]
  },
  {
   "cell_type": "markdown",
   "metadata": {},
   "source": [
    "This is a good time to remark upon the fact that python is zero indexed based. Thus the `range` function returns a list of indexes for an arrange of the input length.\n",
    "\n",
    "While loops are predictable at this point:"
   ]
  },
  {
   "cell_type": "code",
   "execution_count": 28,
   "metadata": {},
   "outputs": [
    {
     "name": "stdout",
     "output_type": "stream",
     "text": [
      "0\n",
      "1\n",
      "2\n",
      "3\n",
      "4\n",
      "5\n",
      "6\n",
      "7\n",
      "8\n",
      "9\n"
     ]
    }
   ],
   "source": [
    "x = 0;\n",
    "while x < 10:\n",
    "    print(x)\n",
    "    x = x + 1;"
   ]
  },
  {
   "cell_type": "markdown",
   "metadata": {},
   "source": [
    "We can see from this example that for and while loops do not create their own contexts in their body. If they did we'd need a \"global x\" above.\n",
    "\n",
    "Comprehensions\n",
    "--------------\n",
    "\n",
    "Comprehensions are a nice feature if you don't know about functional programming. They let you construct new lists from old lists and often this is what you want when you think you want a loop:"
   ]
  },
  {
   "cell_type": "code",
   "execution_count": 30,
   "metadata": {},
   "outputs": [
    {
     "data": {
      "text/plain": [
       "[2, 3, 4]"
      ]
     },
     "execution_count": 30,
     "metadata": {},
     "output_type": "execute_result"
    }
   ],
   "source": [
    "x = [1,2,3]\n",
    "x_plus_one = [e + 1 for e in x]\n",
    "x_plus_one"
   ]
  },
  {
   "cell_type": "markdown",
   "metadata": {},
   "source": [
    "Comprehensions can get somewhat complex: "
   ]
  },
  {
   "cell_type": "code",
   "execution_count": 32,
   "metadata": {},
   "outputs": [
    {
     "data": {
      "text/plain": [
       "[2, 4, 6, 8, 10]"
      ]
     },
     "execution_count": 32,
     "metadata": {},
     "output_type": "execute_result"
    }
   ],
   "source": [
    "def odd(n):\n",
    "    return (n % 2) == 1\n",
    "\n",
    "[e + 1 for e in range(10) if odd(e)]"
   ]
  },
  {
   "cell_type": "markdown",
   "metadata": {},
   "source": [
    "Anonymous Functions\n",
    "===================\n",
    "\n",
    "Another way that Python is broken is that anonymous functions are pretty limited. Note that we always have to give a name during a `def` in Python. In R, the `function` form returns a function which we bind to a name via `<-`. We don't have to give it a name and often we don't. \n",
    "\n",
    "In python there is no equivalent. There are `lambda` expressions, however."
   ]
  },
  {
   "cell_type": "code",
   "execution_count": 34,
   "metadata": {},
   "outputs": [
    {
     "data": {
      "text/plain": [
       "[0, 2, 4, 6, 8, 10, 12, 14, 16, 18]"
      ]
     },
     "execution_count": 34,
     "metadata": {},
     "output_type": "execute_result"
    }
   ],
   "source": [
    "def map(l, f):\n",
    "    return [f(x) for x in l]\n",
    "    \n",
    "map(range(10),lambda x: x*2)"
   ]
  },
  {
   "cell_type": "markdown",
   "metadata": {},
   "source": [
    "Lambda expressions are limited to a single expression in their body. You cannot create new variable bindings inside of them.  This is a big limitation on their expressiveness.\n",
    "\n",
    "All is not lost, however. Functions in Python are first order objects, so you can say:"
   ]
  },
  {
   "cell_type": "code",
   "execution_count": 35,
   "metadata": {},
   "outputs": [
    {
     "data": {
      "text/plain": [
       "[0, 3, 6, 9, 12, 15, 18, 21, 24, 27]"
      ]
     },
     "execution_count": 35,
     "metadata": {},
     "output_type": "execute_result"
    }
   ],
   "source": [
    "def times_3(x):\n",
    "    return x * 3\n",
    "map(range(10), times_3)"
   ]
  },
  {
   "cell_type": "markdown",
   "metadata": {},
   "source": [
    "Since we can nest function definitions this gives us most of what we want. Note that `lambda` expressions are the only sorts of functions where we don't need to say \"return\" to return a value."
   ]
  },
  {
   "cell_type": "code",
   "execution_count": null,
   "metadata": {},
   "outputs": [],
   "source": []
  },
  {
   "cell_type": "code",
   "execution_count": null,
   "metadata": {},
   "outputs": [],
   "source": []
  }
 ],
 "metadata": {
  "kernelspec": {
   "display_name": "Python 3",
   "language": "python",
   "name": "python3"
  },
  "language_info": {
   "codemirror_mode": {
    "name": "ipython",
    "version": 3
   },
   "file_extension": ".py",
   "mimetype": "text/x-python",
   "name": "python",
   "nbconvert_exporter": "python",
   "pygments_lexer": "ipython3",
   "version": "3.8.2"
  }
 },
 "nbformat": 4,
 "nbformat_minor": 4
}
