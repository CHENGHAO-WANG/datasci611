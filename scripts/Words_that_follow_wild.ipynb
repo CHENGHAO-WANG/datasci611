{
 "cells": [
  {
   "cell_type": "code",
   "execution_count": 10,
   "metadata": {
    "collapsed": false
   },
   "outputs": [
    {
     "data": {
      "text/plain": [
       "64"
      ]
     },
     "execution_count": 10,
     "metadata": {},
     "output_type": "execute_result"
    }
   ],
   "source": [
    "wfw = []\n",
    "count = 0\n",
    "with open('tarzan.txt', 'r') as f:\n",
    "    for line in f:\n",
    "        if line.find(' wild ') > -1:\n",
    "            count += 1\n",
    "            parts = line.split(' wild ')\n",
    "            word_following_wild = parts[1].split()[0]\n",
    "            wfw.append(word_following_wild)\n",
    "len(wfw)"
   ]
  },
  {
   "cell_type": "code",
   "execution_count": 4,
   "metadata": {
    "collapsed": false
   },
   "outputs": [
    {
     "data": {
      "text/plain": [
       "['calls', 'and', 'beasts', 'creatures', 'scream']"
      ]
     },
     "execution_count": 4,
     "metadata": {},
     "output_type": "execute_result"
    }
   ],
   "source": [
    "wfw[:5]"
   ]
  },
  {
   "cell_type": "code",
   "execution_count": 11,
   "metadata": {
    "collapsed": false
   },
   "outputs": [
    {
     "data": {
      "text/plain": [
       "['calls', 'man,\"', 'rout,', 'orgy', 'mother']"
      ]
     },
     "execution_count": 11,
     "metadata": {},
     "output_type": "execute_result"
    }
   ],
   "source": [
    "u_words = list(set(wfw))\n",
    "u_words[:5]"
   ]
  },
  {
   "cell_type": "code",
   "execution_count": 17,
   "metadata": {
    "collapsed": false
   },
   "outputs": [],
   "source": [
    "counts_dict = dict.fromkeys(u_words, 0)\n",
    "for w in wfw:\n",
    "    counts_dict[w] += 1"
   ]
  },
  {
   "cell_type": "code",
   "execution_count": 18,
   "metadata": {
    "collapsed": false
   },
   "outputs": [
    {
     "data": {
      "text/plain": [
       "{'alarm': 1,\n",
       " 'and': 8,\n",
       " 'anxieties,': 1,\n",
       " 'anxiety': 1,\n",
       " 'beast': 1,\n",
       " 'beast.': 2,\n",
       " 'beast.\"': 1,\n",
       " 'beasts': 2,\n",
       " 'beasts.': 4,\n",
       " 'beasts;': 1,\n",
       " 'bird': 1,\n",
       " 'boar': 2,\n",
       " 'breast': 1,\n",
       " 'breast,': 1,\n",
       " 'brute': 1,\n",
       " 'brutes': 1,\n",
       " 'calls': 2,\n",
       " 'creature': 2,\n",
       " 'creature,': 1,\n",
       " 'creatures': 1,\n",
       " 'cry': 2,\n",
       " 'denizens': 1,\n",
       " 'elephant,': 1,\n",
       " 'ferocity': 1,\n",
       " 'fits': 1,\n",
       " 'fruit': 1,\n",
       " 'jungle': 2,\n",
       " 'man': 2,\n",
       " 'man,': 3,\n",
       " 'man,\"': 1,\n",
       " 'mother': 1,\n",
       " 'orgy': 1,\n",
       " 'prank': 1,\n",
       " 'revel': 1,\n",
       " 'rhythm': 1,\n",
       " 'rout,': 1,\n",
       " 'savage': 1,\n",
       " 'scream': 2,\n",
       " 'thing': 3,\n",
       " 'voice,': 1,\n",
       " 'world': 1}"
      ]
     },
     "execution_count": 18,
     "metadata": {},
     "output_type": "execute_result"
    }
   ],
   "source": [
    "counts_dict"
   ]
  },
  {
   "cell_type": "code",
   "execution_count": 20,
   "metadata": {
    "collapsed": false
   },
   "outputs": [
    {
     "data": {
      "text/plain": [
       "dict_keys(['calls', 'man,\"', 'rout,', 'orgy', 'mother', 'breast,', 'boar', 'fits', 'brute', 'beast.', 'fruit', 'anxiety', 'cry', 'beasts.', 'jungle', 'and', 'beasts;', 'creatures', 'savage', 'scream', 'alarm', 'beasts', 'man,', 'thing', 'prank', 'denizens', 'voice,', 'breast', 'bird', 'brutes', 'creature', 'world', 'creature,', 'beast', 'rhythm', 'ferocity', 'elephant,', 'man', 'beast.\"', 'anxieties,', 'revel'])"
      ]
     },
     "execution_count": 20,
     "metadata": {},
     "output_type": "execute_result"
    }
   ],
   "source": [
    "counts_dict.keys()"
   ]
  },
  {
   "cell_type": "code",
   "execution_count": 22,
   "metadata": {
    "collapsed": false
   },
   "outputs": [
    {
     "ename": "TypeError",
     "evalue": "'zip' object is not subscriptable",
     "output_type": "error",
     "traceback": [
      "\u001b[0;31m---------------------------------------------------------------------------\u001b[0m",
      "\u001b[0;31mTypeError\u001b[0m                                 Traceback (most recent call last)",
      "\u001b[0;32m<ipython-input-22-2265d98ca817>\u001b[0m in \u001b[0;36m<module>\u001b[0;34m()\u001b[0m\n\u001b[0;32m----> 1\u001b[0;31m \u001b[0mzip\u001b[0m\u001b[1;33m(\u001b[0m\u001b[0mcounts_dict\u001b[0m\u001b[1;33m.\u001b[0m\u001b[0mvalues\u001b[0m\u001b[1;33m(\u001b[0m\u001b[1;33m)\u001b[0m\u001b[1;33m,\u001b[0m \u001b[0mcounts_dict\u001b[0m\u001b[1;33m.\u001b[0m\u001b[0mkeys\u001b[0m\u001b[1;33m(\u001b[0m\u001b[1;33m)\u001b[0m\u001b[1;33m)\u001b[0m\u001b[1;33m[\u001b[0m\u001b[1;36m0\u001b[0m\u001b[1;33m]\u001b[0m\u001b[1;33m\u001b[0m\u001b[0m\n\u001b[0m",
      "\u001b[0;31mTypeError\u001b[0m: 'zip' object is not subscriptable"
     ]
    }
   ],
   "source": []
  },
  {
   "cell_type": "code",
   "execution_count": 23,
   "metadata": {
    "collapsed": false
   },
   "outputs": [
    {
     "data": {
      "text/plain": [
       "[(8, 'and'),\n",
       " (4, 'beasts.'),\n",
       " (3, 'thing'),\n",
       " (3, 'man,'),\n",
       " (2, 'scream'),\n",
       " (2, 'man'),\n",
       " (2, 'jungle'),\n",
       " (2, 'cry'),\n",
       " (2, 'creature'),\n",
       " (2, 'calls'),\n",
       " (2, 'boar'),\n",
       " (2, 'beasts'),\n",
       " (2, 'beast.'),\n",
       " (1, 'world'),\n",
       " (1, 'voice,'),\n",
       " (1, 'savage'),\n",
       " (1, 'rout,'),\n",
       " (1, 'rhythm'),\n",
       " (1, 'revel'),\n",
       " (1, 'prank'),\n",
       " (1, 'orgy'),\n",
       " (1, 'mother'),\n",
       " (1, 'man,\"'),\n",
       " (1, 'fruit'),\n",
       " (1, 'fits'),\n",
       " (1, 'ferocity'),\n",
       " (1, 'elephant,'),\n",
       " (1, 'denizens'),\n",
       " (1, 'creatures'),\n",
       " (1, 'creature,'),\n",
       " (1, 'brutes'),\n",
       " (1, 'brute'),\n",
       " (1, 'breast,'),\n",
       " (1, 'breast'),\n",
       " (1, 'bird'),\n",
       " (1, 'beasts;'),\n",
       " (1, 'beast.\"'),\n",
       " (1, 'beast'),\n",
       " (1, 'anxiety'),\n",
       " (1, 'anxieties,'),\n",
       " (1, 'alarm')]"
      ]
     },
     "execution_count": 23,
     "metadata": {},
     "output_type": "execute_result"
    }
   ],
   "source": [
    "sorted(zip(counts_dict.values(), counts_dict.keys()), reverse=True)"
   ]
  },
  {
   "cell_type": "code",
   "execution_count": null,
   "metadata": {
    "collapsed": true
   },
   "outputs": [],
   "source": []
  }
 ],
 "metadata": {
  "kernelspec": {
   "display_name": "Python 3",
   "language": "python",
   "name": "python3"
  },
  "language_info": {
   "codemirror_mode": {
    "name": "ipython",
    "version": 3
   },
   "file_extension": ".py",
   "mimetype": "text/x-python",
   "name": "python",
   "nbconvert_exporter": "python",
   "pygments_lexer": "ipython3",
   "version": "3.6.0"
  }
 },
 "nbformat": 4,
 "nbformat_minor": 2
}
