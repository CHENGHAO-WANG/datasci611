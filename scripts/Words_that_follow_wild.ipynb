{
 "cells": [
  {
   "cell_type": "code",
   "execution_count": null,
   "metadata": {},
   "outputs": [],
   "source": [
    "# Identify the words that follow \"wild\" and \"savage\" \n",
    "# in the book **Tarzan**. Compare the difference in \n",
    "# word sets for the two adjectives."
   ]
  },
  {
   "cell_type": "code",
   "execution_count": 4,
   "metadata": {},
   "outputs": [],
   "source": [
    "# find following word, if any\n",
    "def get_following_word(chunk):\n",
    "    following_word = chunk.strip(' ,').split()[0]\n",
    "    return following_word"
   ]
  },
  {
   "cell_type": "code",
   "execution_count": 7,
   "metadata": {
    "collapsed": false
   },
   "outputs": [
    {
     "name": "stdout",
     "output_type": "stream",
     "text": [
      "91 81\n"
     ]
    }
   ],
   "source": [
    "# You can loop through the file line-by-line, but \n",
    "# you risk missing words that follow \"wild\" if \"wild\"\n",
    "# is at the end of a line.\n",
    "wfw = []\n",
    "wfs = []\n",
    "count = 0\n",
    "with open('../data/tarzan.txt', 'r') as f:\n",
    "    doc = f.read().lower() # read in entire file at once, convert to lower case\n",
    "    parts_w = doc.split('wild')\n",
    "    for i, p in enumerate(parts_w):\n",
    "        if i > 0:\n",
    "            count += 1\n",
    "            word_following_wild = get_following_word(p)\n",
    "            wfw.append(word_following_wild)\n",
    "    parts_s = doc.lower().split('savage')\n",
    "    for i, p in enumerate(parts_s):\n",
    "        if i > 0:\n",
    "            count += 1\n",
    "            word_following_savage = get_following_word(p)\n",
    "            wfs.append(word_following_savage)\n",
    "            \n",
    "print(len(wfw), len(wfs))"
   ]
  },
  {
   "cell_type": "code",
   "execution_count": 8,
   "metadata": {
    "collapsed": true
   },
   "outputs": [
    {
     "data": {
      "text/plain": [
       "{'and', 'beast', 'beast.', 'beasts', 'creature', 'cry', 'denizens', 'man'}"
      ]
     },
     "execution_count": 8,
     "metadata": {},
     "output_type": "execute_result"
    }
   ],
   "source": [
    "# compare words that follow \"wild\" vs \"savage\"\n",
    "wfw_s = set(wfw)\n",
    "wfs_s = set(wfs)\n",
    "\n",
    "# Shared words\n",
    "wfw_s.intersection(wfs_s)"
   ]
  },
  {
   "cell_type": "code",
   "execution_count": 9,
   "metadata": {},
   "outputs": [
    {
     "data": {
      "text/plain": [
       "{'alarm',\n",
       " 'anxieties,',\n",
       " 'anxiety',\n",
       " 'beast.\"',\n",
       " 'beast?',\n",
       " 'beasts.',\n",
       " 'beasts;',\n",
       " 'bird',\n",
       " 'boar',\n",
       " 'breast',\n",
       " 'breast,',\n",
       " 'brute',\n",
       " 'brutes',\n",
       " 'calls',\n",
       " 'creature,',\n",
       " 'creatures',\n",
       " 'delirium',\n",
       " 'demi-god,',\n",
       " 'elephant,',\n",
       " 'ered',\n",
       " 'erment',\n",
       " 'erment.',\n",
       " 'erness,',\n",
       " 'erness?\"',\n",
       " 'ferocity',\n",
       " 'fits',\n",
       " 'fruit',\n",
       " 'hairy',\n",
       " 'half-caste',\n",
       " 'jabbering',\n",
       " 'jungle',\n",
       " 'leaping',\n",
       " 'ly',\n",
       " 'man,',\n",
       " 'man,\"',\n",
       " 'mother',\n",
       " 'orgy',\n",
       " 'pineapple,',\n",
       " 'prank',\n",
       " 'revel',\n",
       " 'rhythm',\n",
       " 'rhythmic',\n",
       " 'rout,',\n",
       " 'savage',\n",
       " 'scream',\n",
       " 'thing',\n",
       " 'things',\n",
       " 'voice,',\n",
       " 'weird',\n",
       " 'world'}"
      ]
     },
     "execution_count": 9,
     "metadata": {},
     "output_type": "execute_result"
    }
   ],
   "source": [
    "# Unique to \"wild\"\n",
    "wfw_s - wfs_s"
   ]
  },
  {
   "cell_type": "code",
   "execution_count": 10,
   "metadata": {},
   "outputs": [
    {
     "data": {
      "text/plain": [
       "{'--he',\n",
       " 'abandon',\n",
       " 'african',\n",
       " 'ape-man,',\n",
       " 'beasts,',\n",
       " 'beasts--the',\n",
       " 'belly.',\n",
       " 'blacks',\n",
       " 'bullying.',\n",
       " 'cannibals.',\n",
       " 'din',\n",
       " 'enemies,',\n",
       " 'escutcheon.',\n",
       " 'face',\n",
       " 'fastness',\n",
       " 'heart',\n",
       " 'heart,',\n",
       " 'heart.',\n",
       " 'home',\n",
       " 'home.',\n",
       " 'jungle!\"',\n",
       " 'jungle,',\n",
       " 'life',\n",
       " 'life,',\n",
       " 'life.',\n",
       " 'men,',\n",
       " 'men--a',\n",
       " 'men.',\n",
       " 'natives',\n",
       " 'negroes',\n",
       " 'orgy.',\n",
       " 'primeval',\n",
       " 'roar',\n",
       " 'ry',\n",
       " 's',\n",
       " 's,',\n",
       " 's,\"',\n",
       " 's.',\n",
       " 's.\"',\n",
       " 'shore.',\n",
       " 'snarl.',\n",
       " 'training',\n",
       " 'tribe',\n",
       " 'tribe.',\n",
       " 'tribes',\n",
       " 'untutored',\n",
       " 'village',\n",
       " 'was',\n",
       " 'whirling',\n",
       " 'wife--a',\n",
       " 'wilderness?\"',\n",
       " 'yells.'}"
      ]
     },
     "execution_count": 10,
     "metadata": {},
     "output_type": "execute_result"
    }
   ],
   "source": [
    "# Unique to \"savage\"\n",
    "wfs_s - wfw_s"
   ]
  },
  {
   "cell_type": "code",
   "execution_count": null,
   "metadata": {},
   "outputs": [],
   "source": []
  }
 ],
 "metadata": {
  "kernelspec": {
   "display_name": "Python 3",
   "language": "python",
   "name": "python3"
  },
  "language_info": {
   "codemirror_mode": {
    "name": "ipython",
    "version": 3
   },
   "file_extension": ".py",
   "mimetype": "text/x-python",
   "name": "python",
   "nbconvert_exporter": "python",
   "pygments_lexer": "ipython3",
   "version": "3.7.3"
  }
 },
 "nbformat": 4,
 "nbformat_minor": 2
}
