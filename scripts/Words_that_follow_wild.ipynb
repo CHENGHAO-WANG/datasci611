{
 "cells": [
  {
   "cell_type": "code",
   "execution_count": 1,
   "metadata": {
    "collapsed": true
   },
   "outputs": [],
   "source": [
    "wfw = []\n",
    "with open('tarzan.txt', 'r') as f:\n",
    "    for line in f:\n",
    "        if line.find(' wild ') > -1:\n",
    "            parts = line.split(' wild ')\n",
    "            word_following_wild = parts[1].split()[0]\n",
    "            wfw.append(word_following_wild)"
   ]
  },
  {
   "cell_type": "code",
   "execution_count": 4,
   "metadata": {
    "collapsed": false
   },
   "outputs": [
    {
     "data": {
      "text/plain": [
       "['calls', 'and', 'beasts', 'creatures', 'scream']"
      ]
     },
     "execution_count": 4,
     "metadata": {},
     "output_type": "execute_result"
    }
   ],
   "source": [
    "wfw[:5]"
   ]
  },
  {
   "cell_type": "code",
   "execution_count": 5,
   "metadata": {
    "collapsed": false
   },
   "outputs": [
    {
     "data": {
      "text/plain": [
       "['boar', 'savage', 'jungle', 'alarm', 'bird']"
      ]
     },
     "execution_count": 5,
     "metadata": {},
     "output_type": "execute_result"
    }
   ],
   "source": [
    "u_words = list(set(wfw))\n",
    "u_words[:5]"
   ]
  },
  {
   "cell_type": "code",
   "execution_count": 11,
   "metadata": {
    "collapsed": false
   },
   "outputs": [],
   "source": [
    "counts_dict = dict.fromkeys(u_words, 0)\n",
    "for w in wfw:\n",
    "    counts_dict[w] += 1"
   ]
  },
  {
   "cell_type": "code",
   "execution_count": 21,
   "metadata": {
    "collapsed": false
   },
   "outputs": [
    {
     "data": {
      "text/plain": [
       "[(8, 'and'),\n",
       " (4, 'beasts.'),\n",
       " (3, 'thing'),\n",
       " (3, 'man,'),\n",
       " (2, 'scream'),\n",
       " (2, 'man'),\n",
       " (2, 'jungle'),\n",
       " (2, 'cry'),\n",
       " (2, 'creature'),\n",
       " (2, 'calls'),\n",
       " (2, 'boar'),\n",
       " (2, 'beasts'),\n",
       " (2, 'beast.'),\n",
       " (1, 'world'),\n",
       " (1, 'voice,'),\n",
       " (1, 'savage'),\n",
       " (1, 'rout,'),\n",
       " (1, 'rhythm'),\n",
       " (1, 'revel'),\n",
       " (1, 'prank'),\n",
       " (1, 'orgy'),\n",
       " (1, 'mother'),\n",
       " (1, 'man,\"'),\n",
       " (1, 'fruit'),\n",
       " (1, 'fits'),\n",
       " (1, 'ferocity'),\n",
       " (1, 'elephant,'),\n",
       " (1, 'denizens'),\n",
       " (1, 'creatures'),\n",
       " (1, 'creature,'),\n",
       " (1, 'brutes'),\n",
       " (1, 'brute'),\n",
       " (1, 'breast,'),\n",
       " (1, 'breast'),\n",
       " (1, 'bird'),\n",
       " (1, 'beasts;'),\n",
       " (1, 'beast.\"'),\n",
       " (1, 'beast'),\n",
       " (1, 'anxiety'),\n",
       " (1, 'anxieties,'),\n",
       " (1, 'alarm')]"
      ]
     },
     "execution_count": 21,
     "metadata": {},
     "output_type": "execute_result"
    }
   ],
   "source": [
    "sorted(zip(counts_dict.values(), counts_dict.keys()), reverse=True)"
   ]
  },
  {
   "cell_type": "code",
   "execution_count": null,
   "metadata": {
    "collapsed": true
   },
   "outputs": [],
   "source": []
  }
 ],
 "metadata": {
  "kernelspec": {
   "display_name": "Python 3",
   "language": "python",
   "name": "python3"
  },
  "language_info": {
   "codemirror_mode": {
    "name": "ipython",
    "version": 3
   },
   "file_extension": ".py",
   "mimetype": "text/x-python",
   "name": "python",
   "nbconvert_exporter": "python",
   "pygments_lexer": "ipython3",
   "version": "3.6.0"
  }
 },
 "nbformat": 4,
 "nbformat_minor": 2
}
