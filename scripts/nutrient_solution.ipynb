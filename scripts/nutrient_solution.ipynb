{
 "cells": [
  {
   "cell_type": "code",
   "execution_count": 1,
   "metadata": {
    "collapsed": true
   },
   "outputs": [],
   "source": [
    "import requests\n",
    "import io\n",
    "import pandas as pd\n",
    "\n",
    "response = requests.get('http://bl.ocks.org/syntagmatic/raw/3150059/nutrients.csv')\n",
    "file_object = io.StringIO(response.content.decode('utf-8'))"
   ]
  },
  {
   "cell_type": "markdown",
   "metadata": {},
   "source": [
    "Open a Jupyter notebook and read in the Nutrient CSV file into a Pandas Dataframe"
   ]
  },
  {
   "cell_type": "code",
   "execution_count": 2,
   "metadata": {
    "collapsed": false
   },
   "outputs": [
    {
     "data": {
      "text/html": [
       "<div>\n",
       "<table border=\"1\" class=\"dataframe\">\n",
       "  <thead>\n",
       "    <tr style=\"text-align: right;\">\n",
       "      <th></th>\n",
       "      <th>name</th>\n",
       "      <th>group</th>\n",
       "      <th>protein (g)</th>\n",
       "      <th>calcium (g)</th>\n",
       "      <th>sodium (g)</th>\n",
       "      <th>fiber (g)</th>\n",
       "      <th>vitaminc (g)</th>\n",
       "      <th>potassium (g)</th>\n",
       "      <th>carbohydrate (g)</th>\n",
       "      <th>sugars (g)</th>\n",
       "      <th>fat (g)</th>\n",
       "      <th>water (g)</th>\n",
       "      <th>calories</th>\n",
       "      <th>saturated (g)</th>\n",
       "      <th>monounsat (g)</th>\n",
       "      <th>polyunsat (g)</th>\n",
       "      <th>id</th>\n",
       "    </tr>\n",
       "  </thead>\n",
       "  <tbody>\n",
       "    <tr>\n",
       "      <th>0</th>\n",
       "      <td>Beverage, instant breakfast powder, chocolate,...</td>\n",
       "      <td>Dairy and Egg Products</td>\n",
       "      <td>19.9</td>\n",
       "      <td>0.285</td>\n",
       "      <td>0.385</td>\n",
       "      <td>0.4</td>\n",
       "      <td>0.0769</td>\n",
       "      <td>0.947</td>\n",
       "      <td>66.2</td>\n",
       "      <td>65.8</td>\n",
       "      <td>1.4</td>\n",
       "      <td>7.4</td>\n",
       "      <td>357.0</td>\n",
       "      <td>0.560</td>\n",
       "      <td>0.314</td>\n",
       "      <td>0.278</td>\n",
       "      <td>27481</td>\n",
       "    </tr>\n",
       "    <tr>\n",
       "      <th>1</th>\n",
       "      <td>Beverage, instant breakfast powder, chocolate,...</td>\n",
       "      <td>Dairy and Egg Products</td>\n",
       "      <td>35.8</td>\n",
       "      <td>0.500</td>\n",
       "      <td>0.717</td>\n",
       "      <td>2.0</td>\n",
       "      <td>0.1380</td>\n",
       "      <td>1.705</td>\n",
       "      <td>41.0</td>\n",
       "      <td>39.0</td>\n",
       "      <td>5.1</td>\n",
       "      <td>7.4</td>\n",
       "      <td>358.0</td>\n",
       "      <td>2.162</td>\n",
       "      <td>1.189</td>\n",
       "      <td>1.027</td>\n",
       "      <td>27482</td>\n",
       "    </tr>\n",
       "    <tr>\n",
       "      <th>2</th>\n",
       "      <td>Beverage, milkshake mix, dry, not chocolate</td>\n",
       "      <td>Dairy and Egg Products</td>\n",
       "      <td>23.5</td>\n",
       "      <td>0.880</td>\n",
       "      <td>0.780</td>\n",
       "      <td>1.6</td>\n",
       "      <td>0.0012</td>\n",
       "      <td>2.200</td>\n",
       "      <td>52.9</td>\n",
       "      <td>51.3</td>\n",
       "      <td>2.6</td>\n",
       "      <td>12.8</td>\n",
       "      <td>329.0</td>\n",
       "      <td>2.059</td>\n",
       "      <td>0.332</td>\n",
       "      <td>0.060</td>\n",
       "      <td>27483</td>\n",
       "    </tr>\n",
       "  </tbody>\n",
       "</table>\n",
       "</div>"
      ],
      "text/plain": [
       "                                                name                   group  \\\n",
       "0  Beverage, instant breakfast powder, chocolate,...  Dairy and Egg Products   \n",
       "1  Beverage, instant breakfast powder, chocolate,...  Dairy and Egg Products   \n",
       "2        Beverage, milkshake mix, dry, not chocolate  Dairy and Egg Products   \n",
       "\n",
       "   protein (g)  calcium (g)  sodium (g)  fiber (g)  vitaminc (g)  \\\n",
       "0         19.9        0.285       0.385        0.4        0.0769   \n",
       "1         35.8        0.500       0.717        2.0        0.1380   \n",
       "2         23.5        0.880       0.780        1.6        0.0012   \n",
       "\n",
       "   potassium (g)  carbohydrate (g)  sugars (g)  fat (g)  water (g)  calories  \\\n",
       "0          0.947              66.2        65.8      1.4        7.4     357.0   \n",
       "1          1.705              41.0        39.0      5.1        7.4     358.0   \n",
       "2          2.200              52.9        51.3      2.6       12.8     329.0   \n",
       "\n",
       "   saturated (g)  monounsat (g)  polyunsat (g)     id  \n",
       "0          0.560          0.314          0.278  27481  \n",
       "1          2.162          1.189          1.027  27482  \n",
       "2          2.059          0.332          0.060  27483  "
      ]
     },
     "execution_count": 2,
     "metadata": {},
     "output_type": "execute_result"
    }
   ],
   "source": [
    "nutrients_df = pd.read_csv(file_object)\n",
    "nutrients_df.head(3)"
   ]
  },
  {
   "cell_type": "markdown",
   "metadata": {},
   "source": [
    "Sort the dataframe by protein content (foods with the most protein at the top)"
   ]
  },
  {
   "cell_type": "code",
   "execution_count": 3,
   "metadata": {
    "collapsed": false
   },
   "outputs": [
    {
     "data": {
      "text/html": [
       "<div>\n",
       "<table border=\"1\" class=\"dataframe\">\n",
       "  <thead>\n",
       "    <tr style=\"text-align: right;\">\n",
       "      <th></th>\n",
       "      <th>name</th>\n",
       "      <th>group</th>\n",
       "      <th>protein (g)</th>\n",
       "      <th>calcium (g)</th>\n",
       "      <th>sodium (g)</th>\n",
       "      <th>fiber (g)</th>\n",
       "      <th>vitaminc (g)</th>\n",
       "      <th>potassium (g)</th>\n",
       "      <th>carbohydrate (g)</th>\n",
       "      <th>sugars (g)</th>\n",
       "      <th>fat (g)</th>\n",
       "      <th>water (g)</th>\n",
       "      <th>calories</th>\n",
       "      <th>saturated (g)</th>\n",
       "      <th>monounsat (g)</th>\n",
       "      <th>polyunsat (g)</th>\n",
       "      <th>id</th>\n",
       "    </tr>\n",
       "  </thead>\n",
       "  <tbody>\n",
       "    <tr>\n",
       "      <th>5387</th>\n",
       "      <td>Soy protein isolate, potassium type, crude pro...</td>\n",
       "      <td>Legumes and Legume Products</td>\n",
       "      <td>88.32</td>\n",
       "      <td>0.178</td>\n",
       "      <td>0.050</td>\n",
       "      <td>2.0</td>\n",
       "      <td>0.0</td>\n",
       "      <td>1.59</td>\n",
       "      <td>2.59</td>\n",
       "      <td>NaN</td>\n",
       "      <td>0.53</td>\n",
       "      <td>4.98</td>\n",
       "      <td>321.0</td>\n",
       "      <td>0.066</td>\n",
       "      <td>0.101</td>\n",
       "      <td>0.258</td>\n",
       "      <td>32868</td>\n",
       "    </tr>\n",
       "    <tr>\n",
       "      <th>5385</th>\n",
       "      <td>Soy protein isolate, PROTEIN TECHNOLOGIES INTE...</td>\n",
       "      <td>Legumes and Legume Products</td>\n",
       "      <td>87.75</td>\n",
       "      <td>0.200</td>\n",
       "      <td>1.188</td>\n",
       "      <td>NaN</td>\n",
       "      <td>0.0</td>\n",
       "      <td>0.10</td>\n",
       "      <td>NaN</td>\n",
       "      <td>NaN</td>\n",
       "      <td>4.00</td>\n",
       "      <td>4.42</td>\n",
       "      <td>388.0</td>\n",
       "      <td>0.871</td>\n",
       "      <td>0.671</td>\n",
       "      <td>1.729</td>\n",
       "      <td>32866</td>\n",
       "    </tr>\n",
       "    <tr>\n",
       "      <th>5384</th>\n",
       "      <td>Soy protein isolate, PROTEIN TECHNOLOGIES INTE...</td>\n",
       "      <td>Legumes and Legume Products</td>\n",
       "      <td>86.00</td>\n",
       "      <td>0.200</td>\n",
       "      <td>0.040</td>\n",
       "      <td>NaN</td>\n",
       "      <td>0.0</td>\n",
       "      <td>1.60</td>\n",
       "      <td>NaN</td>\n",
       "      <td>NaN</td>\n",
       "      <td>4.00</td>\n",
       "      <td>5.00</td>\n",
       "      <td>380.0</td>\n",
       "      <td>0.400</td>\n",
       "      <td>0.700</td>\n",
       "      <td>1.700</td>\n",
       "      <td>32865</td>\n",
       "    </tr>\n",
       "  </tbody>\n",
       "</table>\n",
       "</div>"
      ],
      "text/plain": [
       "                                                   name  \\\n",
       "5387  Soy protein isolate, potassium type, crude pro...   \n",
       "5385  Soy protein isolate, PROTEIN TECHNOLOGIES INTE...   \n",
       "5384  Soy protein isolate, PROTEIN TECHNOLOGIES INTE...   \n",
       "\n",
       "                            group  protein (g)  calcium (g)  sodium (g)  \\\n",
       "5387  Legumes and Legume Products        88.32        0.178       0.050   \n",
       "5385  Legumes and Legume Products        87.75        0.200       1.188   \n",
       "5384  Legumes and Legume Products        86.00        0.200       0.040   \n",
       "\n",
       "      fiber (g)  vitaminc (g)  potassium (g)  carbohydrate (g)  sugars (g)  \\\n",
       "5387        2.0           0.0           1.59              2.59         NaN   \n",
       "5385        NaN           0.0           0.10               NaN         NaN   \n",
       "5384        NaN           0.0           1.60               NaN         NaN   \n",
       "\n",
       "      fat (g)  water (g)  calories  saturated (g)  monounsat (g)  \\\n",
       "5387     0.53       4.98     321.0          0.066          0.101   \n",
       "5385     4.00       4.42     388.0          0.871          0.671   \n",
       "5384     4.00       5.00     380.0          0.400          0.700   \n",
       "\n",
       "      polyunsat (g)     id  \n",
       "5387          0.258  32868  \n",
       "5385          1.729  32866  \n",
       "5384          1.700  32865  "
      ]
     },
     "execution_count": 3,
     "metadata": {},
     "output_type": "execute_result"
    }
   ],
   "source": [
    "nutrients_df.sort_values(by='protein (g)', ascending = False).head(3)"
   ]
  },
  {
   "cell_type": "markdown",
   "metadata": {},
   "source": [
    "Identify the food group that has the highest average protein content"
   ]
  },
  {
   "cell_type": "code",
   "execution_count": 4,
   "metadata": {
    "collapsed": false
   },
   "outputs": [
    {
     "name": "stdout",
     "output_type": "stream",
     "text": [
      "The food group with the most protein is Beef Products at 24.763559870550168 g protein per 100 g\n"
     ]
    }
   ],
   "source": [
    "# One way to solve this problem is using a for loop and the \"groupby\" function\n",
    "protein_group_name = ''\n",
    "max_protein_val = 0\n",
    "for group_name, group_df in nutrients_df.groupby(['group']):\n",
    "    ave_protein_in_current_group = group_df['protein (g)'].mean()\n",
    "    if ave_protein_in_current_group > max_protein_val:\n",
    "        max_protein_val = ave_protein_in_current_group\n",
    "        protein_group_name = group_name\n",
    "print('The food group with the most protein is {} at {} g protein per 100 g'.format(protein_group_name, max_protein_val))"
   ]
  },
  {
   "cell_type": "markdown",
   "metadata": {},
   "source": [
    "Identify the food group with the greatest variance in protein content"
   ]
  },
  {
   "cell_type": "code",
   "execution_count": 5,
   "metadata": {
    "collapsed": false
   },
   "outputs": [
    {
     "name": "stdout",
     "output_type": "stream",
     "text": [
      "The food group with the most variance in protein content is Ethnic Foods\n"
     ]
    }
   ],
   "source": [
    "# You can call the std() function directly on the groupby() object, \n",
    "# and sort by the standard deviation values. The previous question could \n",
    "# have been answered using a similar approach. \n",
    "sorted_by_protein_variance_df = nutrients_df.groupby(['group']).std().sort_values(by='protein (g)', ascending=False)\n",
    "print('The food group with the most variance in protein content is {}'.format(sorted_by_protein_variance_df.index[0]))"
   ]
  },
  {
   "cell_type": "markdown",
   "metadata": {},
   "source": [
    "1. Create a new variable in your dataframe that indicates whether a food is healthy (above average in at least one category except sodium, sugar and fat), unhealthy (above average in sodium, sugar and fat, and not above average in anything else) or neutral.\n",
    "2. Achieve this by writing a function which takes a row of the dataframe as input and returns one of those three labels\n",
    "3. Create the new variable in your dataframe using apply() and your new function."
   ]
  },
  {
   "cell_type": "code",
   "execution_count": 11,
   "metadata": {
    "collapsed": false
   },
   "outputs": [],
   "source": [
    "col_means = nutrients_df.mean()\n",
    "delicious_list = ['sodium (g)', 'sugars (g)', 'fat (g)']\n",
    "healthy_list = ['protein (g)', 'calcium (g)' , 'fiber (g)', 'vitaminc (g)', 'potassium (g)', 'carbohydrate (g)']\n",
    "\n",
    "def decide_if_healthy(row):\n",
    "    above_average_na_or_sugar_or_fat = False\n",
    "    above_average_na_and_sugar_and_fat = False\n",
    "    any_healthy_nutrient_above_average = False\n",
    "\n",
    "    if row[delicious_list[0]] > col_means[delicious_list[0]] or \\\n",
    "       row[delicious_list[1]] > col_means[delicious_list[1]] or \\\n",
    "       row[delicious_list[2]] > col_means[delicious_list[2]]:\n",
    "        above_average_na_or_sugar_or_fat = True\n",
    "        \n",
    "    if row[delicious_list[0]] > col_means[delicious_list[0]] and \\\n",
    "       row[delicious_list[1]] > col_means[delicious_list[1]] and \\\n",
    "       row[delicious_list[2]] > col_means[delicious_list[2]]:\n",
    "        above_average_na_and_sugar_and_fat = True\n",
    "    \n",
    "    for healthy_nutrient in healthy_list:\n",
    "        if row[healthy_nutrient] > col_means[healthy_nutrient]:\n",
    "            any_healthy_nutrient_above_average = True\n",
    "    \n",
    "    if not above_average_na_or_sugar_or_fat and any_healthy_nutrient_above_average:\n",
    "        return 'healthy'\n",
    "    elif above_average_na_and_sugar_and_fat and not any_healthy_nutrient_above_average:\n",
    "        return 'unhealthy'\n",
    "    else:\n",
    "        return 'neutral'"
   ]
  },
  {
   "cell_type": "code",
   "execution_count": 12,
   "metadata": {
    "collapsed": false
   },
   "outputs": [],
   "source": [
    "nutrients_df['healthy'] = nutrients_df.apply(decide_if_healthy, axis=1)"
   ]
  },
  {
   "cell_type": "code",
   "execution_count": 15,
   "metadata": {
    "collapsed": false
   },
   "outputs": [
    {
     "data": {
      "text/html": [
       "<div>\n",
       "<table border=\"1\" class=\"dataframe\">\n",
       "  <thead>\n",
       "    <tr style=\"text-align: right;\">\n",
       "      <th></th>\n",
       "      <th>name</th>\n",
       "      <th>group</th>\n",
       "      <th>protein (g)</th>\n",
       "      <th>calcium (g)</th>\n",
       "      <th>sodium (g)</th>\n",
       "      <th>fiber (g)</th>\n",
       "      <th>vitaminc (g)</th>\n",
       "      <th>potassium (g)</th>\n",
       "      <th>carbohydrate (g)</th>\n",
       "      <th>sugars (g)</th>\n",
       "      <th>fat (g)</th>\n",
       "      <th>water (g)</th>\n",
       "      <th>calories</th>\n",
       "      <th>saturated (g)</th>\n",
       "      <th>monounsat (g)</th>\n",
       "      <th>polyunsat (g)</th>\n",
       "      <th>id</th>\n",
       "      <th>healthy</th>\n",
       "    </tr>\n",
       "  </thead>\n",
       "  <tbody>\n",
       "    <tr>\n",
       "      <th>33</th>\n",
       "      <td>Cheese, cottage, lowfat, 1% milkfat, lactose r...</td>\n",
       "      <td>Dairy and Egg Products</td>\n",
       "      <td>12.40</td>\n",
       "      <td>0.053</td>\n",
       "      <td>0.220</td>\n",
       "      <td>0.6</td>\n",
       "      <td>0.0</td>\n",
       "      <td>0.086</td>\n",
       "      <td>3.20</td>\n",
       "      <td>2.60</td>\n",
       "      <td>1.00</td>\n",
       "      <td>82.50</td>\n",
       "      <td>74.0</td>\n",
       "      <td>0.640</td>\n",
       "      <td>0.290</td>\n",
       "      <td>0.030</td>\n",
       "      <td>27514</td>\n",
       "      <td>healthy</td>\n",
       "    </tr>\n",
       "    <tr>\n",
       "      <th>34</th>\n",
       "      <td>Cheese, cottage, lowfat, 1% milkfat, no sodium...</td>\n",
       "      <td>Dairy and Egg Products</td>\n",
       "      <td>12.40</td>\n",
       "      <td>0.061</td>\n",
       "      <td>0.013</td>\n",
       "      <td>NaN</td>\n",
       "      <td>0.0</td>\n",
       "      <td>0.086</td>\n",
       "      <td>2.70</td>\n",
       "      <td>2.70</td>\n",
       "      <td>1.00</td>\n",
       "      <td>83.50</td>\n",
       "      <td>72.0</td>\n",
       "      <td>0.632</td>\n",
       "      <td>0.284</td>\n",
       "      <td>0.031</td>\n",
       "      <td>27515</td>\n",
       "      <td>healthy</td>\n",
       "    </tr>\n",
       "    <tr>\n",
       "      <th>87</th>\n",
       "      <td>Cheese, ricotta, part skim milk</td>\n",
       "      <td>Dairy and Egg Products</td>\n",
       "      <td>11.39</td>\n",
       "      <td>0.272</td>\n",
       "      <td>0.125</td>\n",
       "      <td>NaN</td>\n",
       "      <td>0.0</td>\n",
       "      <td>0.125</td>\n",
       "      <td>5.14</td>\n",
       "      <td>0.31</td>\n",
       "      <td>7.91</td>\n",
       "      <td>74.41</td>\n",
       "      <td>138.0</td>\n",
       "      <td>4.927</td>\n",
       "      <td>2.314</td>\n",
       "      <td>0.260</td>\n",
       "      <td>27568</td>\n",
       "      <td>healthy</td>\n",
       "    </tr>\n",
       "  </tbody>\n",
       "</table>\n",
       "</div>"
      ],
      "text/plain": [
       "                                                 name                   group  \\\n",
       "33  Cheese, cottage, lowfat, 1% milkfat, lactose r...  Dairy and Egg Products   \n",
       "34  Cheese, cottage, lowfat, 1% milkfat, no sodium...  Dairy and Egg Products   \n",
       "87                    Cheese, ricotta, part skim milk  Dairy and Egg Products   \n",
       "\n",
       "    protein (g)  calcium (g)  sodium (g)  fiber (g)  vitaminc (g)  \\\n",
       "33        12.40        0.053       0.220        0.6           0.0   \n",
       "34        12.40        0.061       0.013        NaN           0.0   \n",
       "87        11.39        0.272       0.125        NaN           0.0   \n",
       "\n",
       "    potassium (g)  carbohydrate (g)  sugars (g)  fat (g)  water (g)  calories  \\\n",
       "33          0.086              3.20        2.60     1.00      82.50      74.0   \n",
       "34          0.086              2.70        2.70     1.00      83.50      72.0   \n",
       "87          0.125              5.14        0.31     7.91      74.41     138.0   \n",
       "\n",
       "    saturated (g)  monounsat (g)  polyunsat (g)     id  healthy  \n",
       "33          0.640          0.290          0.030  27514  healthy  \n",
       "34          0.632          0.284          0.031  27515  healthy  \n",
       "87          4.927          2.314          0.260  27568  healthy  "
      ]
     },
     "execution_count": 15,
     "metadata": {},
     "output_type": "execute_result"
    }
   ],
   "source": [
    "nutrients_df[nutrients_df['healthy'] == 'healthy'].head(3)"
   ]
  },
  {
   "cell_type": "markdown",
   "metadata": {},
   "source": [
    "Create a new dataframe containing only “Vegetables and Vegetable Products”"
   ]
  },
  {
   "cell_type": "code",
   "execution_count": 17,
   "metadata": {
    "collapsed": false
   },
   "outputs": [],
   "source": [
    "veggie_df = nutrients_df[nutrients_df['group'] == 'Vegetables and Vegetable Products']"
   ]
  },
  {
   "cell_type": "code",
   "execution_count": 31,
   "metadata": {
    "collapsed": false
   },
   "outputs": [
    {
     "data": {
      "text/html": [
       "<div>\n",
       "<table border=\"1\" class=\"dataframe\">\n",
       "  <thead>\n",
       "    <tr style=\"text-align: right;\">\n",
       "      <th></th>\n",
       "      <th>name</th>\n",
       "      <th>group</th>\n",
       "      <th>protein (g)</th>\n",
       "      <th>calcium (g)</th>\n",
       "      <th>sodium (g)</th>\n",
       "      <th>fiber (g)</th>\n",
       "      <th>vitaminc (g)</th>\n",
       "      <th>potassium (g)</th>\n",
       "      <th>carbohydrate (g)</th>\n",
       "      <th>sugars (g)</th>\n",
       "      <th>fat (g)</th>\n",
       "      <th>water (g)</th>\n",
       "      <th>calories</th>\n",
       "      <th>saturated (g)</th>\n",
       "      <th>monounsat (g)</th>\n",
       "      <th>polyunsat (g)</th>\n",
       "      <th>id</th>\n",
       "      <th>healthy</th>\n",
       "    </tr>\n",
       "  </thead>\n",
       "  <tbody>\n",
       "    <tr>\n",
       "      <th>3637</th>\n",
       "      <td>Seaweed, spirulina, dried</td>\n",
       "      <td>Vegetables and Vegetable Products</td>\n",
       "      <td>57.47</td>\n",
       "      <td>0.120</td>\n",
       "      <td>1.048</td>\n",
       "      <td>3.6</td>\n",
       "      <td>0.0101</td>\n",
       "      <td>1.363</td>\n",
       "      <td>23.90</td>\n",
       "      <td>3.1</td>\n",
       "      <td>7.72</td>\n",
       "      <td>4.68</td>\n",
       "      <td>290.0</td>\n",
       "      <td>2.65</td>\n",
       "      <td>0.675</td>\n",
       "      <td>2.08</td>\n",
       "      <td>31118</td>\n",
       "      <td>neutral</td>\n",
       "    </tr>\n",
       "    <tr>\n",
       "      <th>3436</th>\n",
       "      <td>Parsley, freeze-dried</td>\n",
       "      <td>Vegetables and Vegetable Products</td>\n",
       "      <td>31.30</td>\n",
       "      <td>0.176</td>\n",
       "      <td>0.391</td>\n",
       "      <td>32.7</td>\n",
       "      <td>0.1490</td>\n",
       "      <td>6.300</td>\n",
       "      <td>42.38</td>\n",
       "      <td>NaN</td>\n",
       "      <td>5.20</td>\n",
       "      <td>2.00</td>\n",
       "      <td>271.0</td>\n",
       "      <td>NaN</td>\n",
       "      <td>NaN</td>\n",
       "      <td>NaN</td>\n",
       "      <td>30917</td>\n",
       "      <td>neutral</td>\n",
       "    </tr>\n",
       "    <tr>\n",
       "      <th>3826</th>\n",
       "      <td>Yeast extract spread</td>\n",
       "      <td>Vegetables and Vegetable Products</td>\n",
       "      <td>27.80</td>\n",
       "      <td>0.086</td>\n",
       "      <td>3.600</td>\n",
       "      <td>3.0</td>\n",
       "      <td>0.0000</td>\n",
       "      <td>2.600</td>\n",
       "      <td>11.80</td>\n",
       "      <td>NaN</td>\n",
       "      <td>NaN</td>\n",
       "      <td>37.00</td>\n",
       "      <td>158.0</td>\n",
       "      <td>NaN</td>\n",
       "      <td>NaN</td>\n",
       "      <td>NaN</td>\n",
       "      <td>31307</td>\n",
       "      <td>neutral</td>\n",
       "    </tr>\n",
       "  </tbody>\n",
       "</table>\n",
       "</div>"
      ],
      "text/plain": [
       "                           name                              group  \\\n",
       "3637  Seaweed, spirulina, dried  Vegetables and Vegetable Products   \n",
       "3436      Parsley, freeze-dried  Vegetables and Vegetable Products   \n",
       "3826       Yeast extract spread  Vegetables and Vegetable Products   \n",
       "\n",
       "      protein (g)  calcium (g)  sodium (g)  fiber (g)  vitaminc (g)  \\\n",
       "3637        57.47        0.120       1.048        3.6        0.0101   \n",
       "3436        31.30        0.176       0.391       32.7        0.1490   \n",
       "3826        27.80        0.086       3.600        3.0        0.0000   \n",
       "\n",
       "      potassium (g)  carbohydrate (g)  sugars (g)  fat (g)  water (g)  \\\n",
       "3637          1.363             23.90         3.1     7.72       4.68   \n",
       "3436          6.300             42.38         NaN     5.20       2.00   \n",
       "3826          2.600             11.80         NaN      NaN      37.00   \n",
       "\n",
       "      calories  saturated (g)  monounsat (g)  polyunsat (g)     id  healthy  \n",
       "3637     290.0           2.65          0.675           2.08  31118  neutral  \n",
       "3436     271.0            NaN            NaN            NaN  30917  neutral  \n",
       "3826     158.0            NaN            NaN            NaN  31307  neutral  "
      ]
     },
     "execution_count": 31,
     "metadata": {},
     "output_type": "execute_result"
    }
   ],
   "source": [
    "veggie_df.sort_values(by=['protein (g)'], ascending=False).head(3)"
   ]
  },
  {
   "cell_type": "markdown",
   "metadata": {},
   "source": [
    "Make a scatter plot of your vegetables protein vs fiber using Pandas’ plotting functions."
   ]
  },
  {
   "cell_type": "code",
   "execution_count": 20,
   "metadata": {
    "collapsed": true
   },
   "outputs": [],
   "source": [
    "import matplotlib.pyplot as plt"
   ]
  },
  {
   "cell_type": "code",
   "execution_count": 28,
   "metadata": {
    "collapsed": true
   },
   "outputs": [],
   "source": [
    "plt.figure();"
   ]
  },
  {
   "cell_type": "code",
   "execution_count": 30,
   "metadata": {
    "collapsed": false
   },
   "outputs": [
    {
     "data": {
      "image/png": "[encoded data removed]",
      "text/plain": [
       "<matplotlib.figure.Figure at 0x1c8713619e8>"
      ]
     },
     "metadata": {},
     "output_type": "display_data"
    }
   ],
   "source": [
    "veggie_df.plot.scatter(x='protein (g)', y='fiber (g)'); plt.show();"
   ]
  },
  {
   "cell_type": "markdown",
   "metadata": {},
   "source": [
    "Write your vegetables dataframe to a TSV file (include your new “healthy” variable and exclude the index)"
   ]
  },
  {
   "cell_type": "code",
   "execution_count": 32,
   "metadata": {
    "collapsed": true
   },
   "outputs": [],
   "source": [
    "veggie_df.to_csv('veggie_nutrition.tsv', sep='\\t', index=False)"
   ]
  },
  {
   "cell_type": "code",
   "execution_count": null,
   "metadata": {
    "collapsed": true
   },
   "outputs": [],
   "source": []
  }
 ],
 "metadata": {
  "kernelspec": {
   "display_name": "Python 3",
   "language": "python",
   "name": "python3"
  },
  "language_info": {
   "codemirror_mode": {
    "name": "ipython",
    "version": 3
   },
   "file_extension": ".py",
   "mimetype": "text/x-python",
   "name": "python",
   "nbconvert_exporter": "python",
   "pygments_lexer": "ipython3",
   "version": "3.6.0"
  }
 },
 "nbformat": 4,
 "nbformat_minor": 2
}
