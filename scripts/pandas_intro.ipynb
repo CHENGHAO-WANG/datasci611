{
 "cells": [
  {
   "cell_type": "markdown",
   "metadata": {},
   "source": [
    "This is still just python code, but like an Rmd notebook, you can mix code with Markdown and output"
   ]
  },
  {
   "cell_type": "code",
   "execution_count": 1,
   "metadata": {
    "collapsed": true
   },
   "outputs": [],
   "source": [
    "import pandas as pd\n",
    "import numpy as np"
   ]
  },
  {
   "cell_type": "markdown",
   "metadata": {},
   "source": [
    "Let's import some data and display it"
   ]
  },
  {
   "cell_type": "code",
   "execution_count": 2,
   "metadata": {
    "collapsed": true
   },
   "outputs": [
    {
     "data": {
      "text/html": [
       "<div>\n",
       "<style scoped>\n",
       "    .dataframe tbody tr th:only-of-type {\n",
       "        vertical-align: middle;\n",
       "    }\n",
       "\n",
       "    .dataframe tbody tr th {\n",
       "        vertical-align: top;\n",
       "    }\n",
       "\n",
       "    .dataframe thead th {\n",
       "        text-align: right;\n",
       "    }\n",
       "</style>\n",
       "<table border=\"1\" class=\"dataframe\">\n",
       "  <thead>\n",
       "    <tr style=\"text-align: right;\">\n",
       "      <th></th>\n",
       "      <th>city</th>\n",
       "      <th>police_force_size</th>\n",
       "      <th>all</th>\n",
       "      <th>white</th>\n",
       "      <th>non-white</th>\n",
       "      <th>black</th>\n",
       "      <th>hispanic</th>\n",
       "      <th>asian</th>\n",
       "    </tr>\n",
       "  </thead>\n",
       "  <tbody>\n",
       "    <tr>\n",
       "      <th>0</th>\n",
       "      <td>New York</td>\n",
       "      <td>32300</td>\n",
       "      <td>0.617957</td>\n",
       "      <td>0.446387</td>\n",
       "      <td>0.764419</td>\n",
       "      <td>0.770891365</td>\n",
       "      <td>0.762860728</td>\n",
       "      <td>0.749235474</td>\n",
       "    </tr>\n",
       "    <tr>\n",
       "      <th>1</th>\n",
       "      <td>Chicago</td>\n",
       "      <td>12120</td>\n",
       "      <td>0.875000</td>\n",
       "      <td>0.871963</td>\n",
       "      <td>0.877400</td>\n",
       "      <td>0.89740566</td>\n",
       "      <td>0.83982684</td>\n",
       "      <td>0.966666667</td>\n",
       "    </tr>\n",
       "    <tr>\n",
       "      <th>2</th>\n",
       "      <td>Los Angeles</td>\n",
       "      <td>10100</td>\n",
       "      <td>0.228218</td>\n",
       "      <td>0.152778</td>\n",
       "      <td>0.263848</td>\n",
       "      <td>0.387387387</td>\n",
       "      <td>0.217679558</td>\n",
       "      <td>0.305263158</td>\n",
       "    </tr>\n",
       "    <tr>\n",
       "      <th>3</th>\n",
       "      <td>Washington</td>\n",
       "      <td>9340</td>\n",
       "      <td>0.115632</td>\n",
       "      <td>0.056774</td>\n",
       "      <td>0.157365</td>\n",
       "      <td>0.170189099</td>\n",
       "      <td>0.08988764</td>\n",
       "      <td>0.230769231</td>\n",
       "    </tr>\n",
       "    <tr>\n",
       "      <th>4</th>\n",
       "      <td>Houston</td>\n",
       "      <td>7700</td>\n",
       "      <td>0.292208</td>\n",
       "      <td>0.173735</td>\n",
       "      <td>0.399258</td>\n",
       "      <td>0.36637931</td>\n",
       "      <td>0.457142857</td>\n",
       "      <td>0.408163265</td>\n",
       "    </tr>\n",
       "  </tbody>\n",
       "</table>\n",
       "</div>"
      ],
      "text/plain": [
       "          city  police_force_size       all     white  non-white        black  \\\n",
       "0     New York              32300  0.617957  0.446387   0.764419  0.770891365   \n",
       "1      Chicago              12120  0.875000  0.871963   0.877400   0.89740566   \n",
       "2  Los Angeles              10100  0.228218  0.152778   0.263848  0.387387387   \n",
       "3   Washington               9340  0.115632  0.056774   0.157365  0.170189099   \n",
       "4      Houston               7700  0.292208  0.173735   0.399258   0.36637931   \n",
       "\n",
       "      hispanic        asian  \n",
       "0  0.762860728  0.749235474  \n",
       "1   0.83982684  0.966666667  \n",
       "2  0.217679558  0.305263158  \n",
       "3   0.08988764  0.230769231  \n",
       "4  0.457142857  0.408163265  "
      ]
     },
     "execution_count": 2,
     "metadata": {},
     "output_type": "execute_result"
    }
   ],
   "source": [
    "police_df = pd.read_csv('https://raw.githubusercontent.com/fivethirtyeight/data/master/police-locals/police-locals.csv', sep=',')\n",
    "police_df.head()"
   ]
  },
  {
   "cell_type": "markdown",
   "metadata": {},
   "source": [
    "You can run cells using the \"play button\" at the top, the \"kernel\" menu, or \"Shift+Enter\"."
   ]
  },
  {
   "cell_type": "code",
   "execution_count": 3,
   "metadata": {},
   "outputs": [
    {
     "data": {
      "text/html": [
       "<div>\n",
       "<style scoped>\n",
       "    .dataframe tbody tr th:only-of-type {\n",
       "        vertical-align: middle;\n",
       "    }\n",
       "\n",
       "    .dataframe tbody tr th {\n",
       "        vertical-align: top;\n",
       "    }\n",
       "\n",
       "    .dataframe thead th {\n",
       "        text-align: right;\n",
       "    }\n",
       "</style>\n",
       "<table border=\"1\" class=\"dataframe\">\n",
       "  <thead>\n",
       "    <tr style=\"text-align: right;\">\n",
       "      <th></th>\n",
       "      <th>rank</th>\n",
       "      <th>city</th>\n",
       "      <th>state</th>\n",
       "      <th>population</th>\n",
       "      <th>2000-2013 growth</th>\n",
       "    </tr>\n",
       "  </thead>\n",
       "  <tbody>\n",
       "    <tr>\n",
       "      <th>0</th>\n",
       "      <td>1</td>\n",
       "      <td>New York</td>\n",
       "      <td>New York</td>\n",
       "      <td>8405837</td>\n",
       "      <td>4.8%</td>\n",
       "    </tr>\n",
       "    <tr>\n",
       "      <th>1</th>\n",
       "      <td>2</td>\n",
       "      <td>Los Angeles</td>\n",
       "      <td>California</td>\n",
       "      <td>3884307</td>\n",
       "      <td>4.8%</td>\n",
       "    </tr>\n",
       "    <tr>\n",
       "      <th>2</th>\n",
       "      <td>3</td>\n",
       "      <td>Chicago</td>\n",
       "      <td>Illinois</td>\n",
       "      <td>2718782</td>\n",
       "      <td>-6.1%</td>\n",
       "    </tr>\n",
       "    <tr>\n",
       "      <th>3</th>\n",
       "      <td>4</td>\n",
       "      <td>Houston</td>\n",
       "      <td>Texas</td>\n",
       "      <td>2195914</td>\n",
       "      <td>11.0%</td>\n",
       "    </tr>\n",
       "    <tr>\n",
       "      <th>4</th>\n",
       "      <td>5</td>\n",
       "      <td>Philadelphia</td>\n",
       "      <td>Pennsylvania</td>\n",
       "      <td>1553165</td>\n",
       "      <td>2.6%</td>\n",
       "    </tr>\n",
       "  </tbody>\n",
       "</table>\n",
       "</div>"
      ],
      "text/plain": [
       "  rank          city         state population 2000-2013 growth\n",
       "0    1      New York      New York    8405837             4.8%\n",
       "1    2   Los Angeles    California    3884307             4.8%\n",
       "2    3       Chicago      Illinois    2718782            -6.1%\n",
       "3    4       Houston         Texas    2195914            11.0%\n",
       "4    5  Philadelphia  Pennsylvania    1553165             2.6%"
      ]
     },
     "execution_count": 3,
     "metadata": {},
     "output_type": "execute_result"
    }
   ],
   "source": [
    "city_df = pd.read_csv('https://gist.githubusercontent.com/Miserlou/11500b2345d3fe850c92/raw/e36859a9eef58c231865429ade1c142a2b75f16e/gistfile1.txt', sep=',', skiprows=3)\n",
    "city_df.head()"
   ]
  },
  {
   "cell_type": "markdown",
   "metadata": {},
   "source": [
    "A Pandas \"series\" is like a list or an array. Rows and columns are Series objects."
   ]
  },
  {
   "cell_type": "code",
   "execution_count": 4,
   "metadata": {},
   "outputs": [
    {
     "data": {
      "text/plain": [
       "0       New York\n",
       "1        Chicago\n",
       "2    Los Angeles\n",
       "3     Washington\n",
       "4        Houston\n",
       "Name: city, dtype: object"
      ]
     },
     "execution_count": 4,
     "metadata": {},
     "output_type": "execute_result"
    }
   ],
   "source": [
    "police_df['city'].head()"
   ]
  },
  {
   "cell_type": "markdown",
   "metadata": {},
   "source": [
    "\"Shape\" is a numpy property inherited by Pandas objects."
   ]
  },
  {
   "cell_type": "code",
   "execution_count": 5,
   "metadata": {},
   "outputs": [
    {
     "data": {
      "text/plain": [
       "(75, 8)"
      ]
     },
     "execution_count": 5,
     "metadata": {},
     "output_type": "execute_result"
    }
   ],
   "source": [
    "police_df.shape"
   ]
  },
  {
   "cell_type": "code",
   "execution_count": 6,
   "metadata": {},
   "outputs": [
    {
     "data": {
      "text/plain": [
       "75"
      ]
     },
     "execution_count": 6,
     "metadata": {},
     "output_type": "execute_result"
    }
   ],
   "source": [
    "# How many rows in dataframe?\n",
    "police_df.shape[0]"
   ]
  },
  {
   "cell_type": "markdown",
   "metadata": {},
   "source": [
    "To select specific elements, use the indexing functions"
   ]
  },
  {
   "cell_type": "code",
   "execution_count": 7,
   "metadata": {},
   "outputs": [
    {
     "data": {
      "text/plain": [
       "'New York'"
      ]
     },
     "execution_count": 7,
     "metadata": {},
     "output_type": "execute_result"
    }
   ],
   "source": [
    "police_df['city'][0]"
   ]
  },
  {
   "cell_type": "code",
   "execution_count": 8,
   "metadata": {},
   "outputs": [
    {
     "data": {
      "text/plain": [
       "'New York'"
      ]
     },
     "execution_count": 8,
     "metadata": {},
     "output_type": "execute_result"
    }
   ],
   "source": [
    "police_df['city'].iloc[0]"
   ]
  },
  {
   "cell_type": "markdown",
   "metadata": {},
   "source": [
    "Dataframes are similar to those in R. They can represent many different types of data, and implement many wrangling operations for you."
   ]
  },
  {
   "cell_type": "code",
   "execution_count": 9,
   "metadata": {},
   "outputs": [
    {
     "data": {
      "text/plain": [
       "0       New York\n",
       "1        Chicago\n",
       "2    Los Angeles\n",
       "3     Washington\n",
       "4        Houston\n",
       "Name: city, dtype: object"
      ]
     },
     "execution_count": 9,
     "metadata": {},
     "output_type": "execute_result"
    }
   ],
   "source": [
    "# Select a column and then select the first 5 elements\n",
    "police_df['city'][:5]"
   ]
  },
  {
   "cell_type": "code",
   "execution_count": 10,
   "metadata": {},
   "outputs": [
    {
     "data": {
      "text/plain": [
       "0       New York\n",
       "1        Chicago\n",
       "2    Los Angeles\n",
       "3     Washington\n",
       "4        Houston\n",
       "Name: city, dtype: object"
      ]
     },
     "execution_count": 10,
     "metadata": {},
     "output_type": "execute_result"
    }
   ],
   "source": [
    "# Select a column and then select the first 5 elements (but different)\n",
    "police_df.city[:5]"
   ]
  },
  {
   "cell_type": "code",
   "execution_count": 11,
   "metadata": {},
   "outputs": [
    {
     "data": {
      "text/html": [
       "<div>\n",
       "<style scoped>\n",
       "    .dataframe tbody tr th:only-of-type {\n",
       "        vertical-align: middle;\n",
       "    }\n",
       "\n",
       "    .dataframe tbody tr th {\n",
       "        vertical-align: top;\n",
       "    }\n",
       "\n",
       "    .dataframe thead th {\n",
       "        text-align: right;\n",
       "    }\n",
       "</style>\n",
       "<table border=\"1\" class=\"dataframe\">\n",
       "  <thead>\n",
       "    <tr style=\"text-align: right;\">\n",
       "      <th></th>\n",
       "      <th>city</th>\n",
       "      <th>all</th>\n",
       "    </tr>\n",
       "  </thead>\n",
       "  <tbody>\n",
       "    <tr>\n",
       "      <th>0</th>\n",
       "      <td>New York</td>\n",
       "      <td>0.617957</td>\n",
       "    </tr>\n",
       "    <tr>\n",
       "      <th>1</th>\n",
       "      <td>Chicago</td>\n",
       "      <td>0.875000</td>\n",
       "    </tr>\n",
       "    <tr>\n",
       "      <th>2</th>\n",
       "      <td>Los Angeles</td>\n",
       "      <td>0.228218</td>\n",
       "    </tr>\n",
       "    <tr>\n",
       "      <th>3</th>\n",
       "      <td>Washington</td>\n",
       "      <td>0.115632</td>\n",
       "    </tr>\n",
       "    <tr>\n",
       "      <th>4</th>\n",
       "      <td>Houston</td>\n",
       "      <td>0.292208</td>\n",
       "    </tr>\n",
       "  </tbody>\n",
       "</table>\n",
       "</div>"
      ],
      "text/plain": [
       "          city       all\n",
       "0     New York  0.617957\n",
       "1      Chicago  0.875000\n",
       "2  Los Angeles  0.228218\n",
       "3   Washington  0.115632\n",
       "4      Houston  0.292208"
      ]
     },
     "execution_count": 11,
     "metadata": {},
     "output_type": "execute_result"
    }
   ],
   "source": [
    "# Select two columns and then select the first 5 elements\n",
    "police_df[['city', 'all']].head(5)"
   ]
  },
  {
   "cell_type": "code",
   "execution_count": 12,
   "metadata": {},
   "outputs": [
    {
     "data": {
      "text/plain": [
       "city                 San Francisco\n",
       "police_force_size             3020\n",
       "all                       0.316225\n",
       "white                     0.259494\n",
       "non-white                 0.378472\n",
       "black                  0.186046512\n",
       "hispanic               0.253333333\n",
       "asian                  0.486111111\n",
       "Name: 10, dtype: object"
      ]
     },
     "execution_count": 12,
     "metadata": {},
     "output_type": "execute_result"
    }
   ],
   "source": [
    "# Select row\n",
    "police_df.iloc[10]"
   ]
  },
  {
   "cell_type": "code",
   "execution_count": 13,
   "metadata": {},
   "outputs": [
    {
     "data": {
      "text/html": [
       "<div>\n",
       "<style scoped>\n",
       "    .dataframe tbody tr th:only-of-type {\n",
       "        vertical-align: middle;\n",
       "    }\n",
       "\n",
       "    .dataframe tbody tr th {\n",
       "        vertical-align: top;\n",
       "    }\n",
       "\n",
       "    .dataframe thead th {\n",
       "        text-align: right;\n",
       "    }\n",
       "</style>\n",
       "<table border=\"1\" class=\"dataframe\">\n",
       "  <thead>\n",
       "    <tr style=\"text-align: right;\">\n",
       "      <th></th>\n",
       "      <th>city</th>\n",
       "      <th>police_force_size</th>\n",
       "      <th>all</th>\n",
       "      <th>white</th>\n",
       "      <th>non-white</th>\n",
       "      <th>black</th>\n",
       "      <th>hispanic</th>\n",
       "      <th>asian</th>\n",
       "    </tr>\n",
       "  </thead>\n",
       "  <tbody>\n",
       "    <tr>\n",
       "      <th>10</th>\n",
       "      <td>San Francisco</td>\n",
       "      <td>3020</td>\n",
       "      <td>0.316225</td>\n",
       "      <td>0.259494</td>\n",
       "      <td>0.378472</td>\n",
       "      <td>0.186046512</td>\n",
       "      <td>0.253333333</td>\n",
       "      <td>0.486111111</td>\n",
       "    </tr>\n",
       "    <tr>\n",
       "      <th>11</th>\n",
       "      <td>San Antonio</td>\n",
       "      <td>2955</td>\n",
       "      <td>0.624365</td>\n",
       "      <td>0.443878</td>\n",
       "      <td>0.713924</td>\n",
       "      <td>0.574468085</td>\n",
       "      <td>0.739130435</td>\n",
       "      <td>**</td>\n",
       "    </tr>\n",
       "  </tbody>\n",
       "</table>\n",
       "</div>"
      ],
      "text/plain": [
       "             city  police_force_size       all     white  non-white  \\\n",
       "10  San Francisco               3020  0.316225  0.259494   0.378472   \n",
       "11    San Antonio               2955  0.624365  0.443878   0.713924   \n",
       "\n",
       "          black     hispanic        asian  \n",
       "10  0.186046512  0.253333333  0.486111111  \n",
       "11  0.574468085  0.739130435           **  "
      ]
     },
     "execution_count": 13,
     "metadata": {},
     "output_type": "execute_result"
    }
   ],
   "source": [
    "# Select two rows\n",
    "police_df.iloc[10:12]"
   ]
  },
  {
   "cell_type": "code",
   "execution_count": 14,
   "metadata": {},
   "outputs": [
    {
     "data": {
      "text/html": [
       "<div>\n",
       "<style scoped>\n",
       "    .dataframe tbody tr th:only-of-type {\n",
       "        vertical-align: middle;\n",
       "    }\n",
       "\n",
       "    .dataframe tbody tr th {\n",
       "        vertical-align: top;\n",
       "    }\n",
       "\n",
       "    .dataframe thead th {\n",
       "        text-align: right;\n",
       "    }\n",
       "</style>\n",
       "<table border=\"1\" class=\"dataframe\">\n",
       "  <thead>\n",
       "    <tr style=\"text-align: right;\">\n",
       "      <th></th>\n",
       "      <th>city</th>\n",
       "      <th>police_force_size</th>\n",
       "      <th>all</th>\n",
       "      <th>white</th>\n",
       "      <th>non-white</th>\n",
       "      <th>black</th>\n",
       "      <th>hispanic</th>\n",
       "      <th>asian</th>\n",
       "    </tr>\n",
       "  </thead>\n",
       "  <tbody>\n",
       "    <tr>\n",
       "      <th>74</th>\n",
       "      <td>San Bernardino, Calif.</td>\n",
       "      <td>755</td>\n",
       "      <td>0.271523</td>\n",
       "      <td>0.263158</td>\n",
       "      <td>0.280000</td>\n",
       "      <td>**</td>\n",
       "      <td>0.274509804</td>\n",
       "      <td>**</td>\n",
       "    </tr>\n",
       "    <tr>\n",
       "      <th>73</th>\n",
       "      <td>Corpus Christi, Texas</td>\n",
       "      <td>770</td>\n",
       "      <td>0.857143</td>\n",
       "      <td>0.893333</td>\n",
       "      <td>0.822785</td>\n",
       "      <td>**</td>\n",
       "      <td>0.847222222</td>\n",
       "      <td>**</td>\n",
       "    </tr>\n",
       "    <tr>\n",
       "      <th>72</th>\n",
       "      <td>Madison, Wis.</td>\n",
       "      <td>790</td>\n",
       "      <td>0.278481</td>\n",
       "      <td>0.246479</td>\n",
       "      <td>0.562500</td>\n",
       "      <td>**</td>\n",
       "      <td>**</td>\n",
       "      <td>**</td>\n",
       "    </tr>\n",
       "    <tr>\n",
       "      <th>71</th>\n",
       "      <td>Toledo, Ohio</td>\n",
       "      <td>805</td>\n",
       "      <td>0.565217</td>\n",
       "      <td>0.530769</td>\n",
       "      <td>0.709677</td>\n",
       "      <td>0.75</td>\n",
       "      <td>**</td>\n",
       "      <td>**</td>\n",
       "    </tr>\n",
       "    <tr>\n",
       "      <th>69</th>\n",
       "      <td>Savannah, Ga.</td>\n",
       "      <td>860</td>\n",
       "      <td>0.215116</td>\n",
       "      <td>0.076923</td>\n",
       "      <td>0.299065</td>\n",
       "      <td>0.170731707</td>\n",
       "      <td>0.75</td>\n",
       "      <td>**</td>\n",
       "    </tr>\n",
       "  </tbody>\n",
       "</table>\n",
       "</div>"
      ],
      "text/plain": [
       "                      city  police_force_size       all     white  non-white  \\\n",
       "74  San Bernardino, Calif.                755  0.271523  0.263158   0.280000   \n",
       "73   Corpus Christi, Texas                770  0.857143  0.893333   0.822785   \n",
       "72           Madison, Wis.                790  0.278481  0.246479   0.562500   \n",
       "71            Toledo, Ohio                805  0.565217  0.530769   0.709677   \n",
       "69           Savannah, Ga.                860  0.215116  0.076923   0.299065   \n",
       "\n",
       "          black     hispanic asian  \n",
       "74           **  0.274509804    **  \n",
       "73           **  0.847222222    **  \n",
       "72           **           **    **  \n",
       "71         0.75           **    **  \n",
       "69  0.170731707         0.75    **  "
      ]
     },
     "execution_count": 14,
     "metadata": {},
     "output_type": "execute_result"
    }
   ],
   "source": [
    "# Sort dataframe\n",
    "police_df.sort_values(by=['police_force_size']).head()"
   ]
  },
  {
   "cell_type": "code",
   "execution_count": 15,
   "metadata": {},
   "outputs": [
    {
     "data": {
      "text/html": [
       "<div>\n",
       "<style scoped>\n",
       "    .dataframe tbody tr th:only-of-type {\n",
       "        vertical-align: middle;\n",
       "    }\n",
       "\n",
       "    .dataframe tbody tr th {\n",
       "        vertical-align: top;\n",
       "    }\n",
       "\n",
       "    .dataframe thead th {\n",
       "        text-align: right;\n",
       "    }\n",
       "</style>\n",
       "<table border=\"1\" class=\"dataframe\">\n",
       "  <thead>\n",
       "    <tr style=\"text-align: right;\">\n",
       "      <th></th>\n",
       "      <th>city</th>\n",
       "      <th>police_force_size</th>\n",
       "      <th>all</th>\n",
       "      <th>white</th>\n",
       "      <th>non-white</th>\n",
       "      <th>black</th>\n",
       "      <th>hispanic</th>\n",
       "      <th>asian</th>\n",
       "    </tr>\n",
       "  </thead>\n",
       "  <tbody>\n",
       "    <tr>\n",
       "      <th>0</th>\n",
       "      <td>New York</td>\n",
       "      <td>32300</td>\n",
       "      <td>0.617957</td>\n",
       "      <td>0.446387</td>\n",
       "      <td>0.764419</td>\n",
       "      <td>0.770891365</td>\n",
       "      <td>0.762860728</td>\n",
       "      <td>0.749235474</td>\n",
       "    </tr>\n",
       "    <tr>\n",
       "      <th>1</th>\n",
       "      <td>Chicago</td>\n",
       "      <td>12120</td>\n",
       "      <td>0.875000</td>\n",
       "      <td>0.871963</td>\n",
       "      <td>0.877400</td>\n",
       "      <td>0.89740566</td>\n",
       "      <td>0.83982684</td>\n",
       "      <td>0.966666667</td>\n",
       "    </tr>\n",
       "    <tr>\n",
       "      <th>2</th>\n",
       "      <td>Los Angeles</td>\n",
       "      <td>10100</td>\n",
       "      <td>0.228218</td>\n",
       "      <td>0.152778</td>\n",
       "      <td>0.263848</td>\n",
       "      <td>0.387387387</td>\n",
       "      <td>0.217679558</td>\n",
       "      <td>0.305263158</td>\n",
       "    </tr>\n",
       "    <tr>\n",
       "      <th>3</th>\n",
       "      <td>Washington</td>\n",
       "      <td>9340</td>\n",
       "      <td>0.115632</td>\n",
       "      <td>0.056774</td>\n",
       "      <td>0.157365</td>\n",
       "      <td>0.170189099</td>\n",
       "      <td>0.08988764</td>\n",
       "      <td>0.230769231</td>\n",
       "    </tr>\n",
       "    <tr>\n",
       "      <th>4</th>\n",
       "      <td>Houston</td>\n",
       "      <td>7700</td>\n",
       "      <td>0.292208</td>\n",
       "      <td>0.173735</td>\n",
       "      <td>0.399258</td>\n",
       "      <td>0.36637931</td>\n",
       "      <td>0.457142857</td>\n",
       "      <td>0.408163265</td>\n",
       "    </tr>\n",
       "  </tbody>\n",
       "</table>\n",
       "</div>"
      ],
      "text/plain": [
       "          city  police_force_size       all     white  non-white        black  \\\n",
       "0     New York              32300  0.617957  0.446387   0.764419  0.770891365   \n",
       "1      Chicago              12120  0.875000  0.871963   0.877400   0.89740566   \n",
       "2  Los Angeles              10100  0.228218  0.152778   0.263848  0.387387387   \n",
       "3   Washington               9340  0.115632  0.056774   0.157365  0.170189099   \n",
       "4      Houston               7700  0.292208  0.173735   0.399258   0.36637931   \n",
       "\n",
       "      hispanic        asian  \n",
       "0  0.762860728  0.749235474  \n",
       "1   0.83982684  0.966666667  \n",
       "2  0.217679558  0.305263158  \n",
       "3   0.08988764  0.230769231  \n",
       "4  0.457142857  0.408163265  "
      ]
     },
     "execution_count": 15,
     "metadata": {},
     "output_type": "execute_result"
    }
   ],
   "source": [
    "# Sort dataframe in reverse\n",
    "police_df.sort_values(by=['police_force_size'], ascending=False).head()"
   ]
  },
  {
   "cell_type": "code",
   "execution_count": 16,
   "metadata": {},
   "outputs": [
    {
     "data": {
      "text/html": [
       "<div>\n",
       "<style scoped>\n",
       "    .dataframe tbody tr th:only-of-type {\n",
       "        vertical-align: middle;\n",
       "    }\n",
       "\n",
       "    .dataframe tbody tr th {\n",
       "        vertical-align: top;\n",
       "    }\n",
       "\n",
       "    .dataframe thead th {\n",
       "        text-align: right;\n",
       "    }\n",
       "</style>\n",
       "<table border=\"1\" class=\"dataframe\">\n",
       "  <thead>\n",
       "    <tr style=\"text-align: right;\">\n",
       "      <th></th>\n",
       "      <th>city</th>\n",
       "      <th>police_force_size</th>\n",
       "      <th>all</th>\n",
       "      <th>white</th>\n",
       "      <th>non-white</th>\n",
       "      <th>black</th>\n",
       "      <th>hispanic</th>\n",
       "      <th>asian</th>\n",
       "    </tr>\n",
       "  </thead>\n",
       "  <tbody>\n",
       "    <tr>\n",
       "      <th>72</th>\n",
       "      <td>Madison, Wis.</td>\n",
       "      <td>790</td>\n",
       "      <td>0.278481</td>\n",
       "      <td>0.246479</td>\n",
       "      <td>0.562500</td>\n",
       "      <td>**</td>\n",
       "      <td>**</td>\n",
       "      <td>**</td>\n",
       "    </tr>\n",
       "    <tr>\n",
       "      <th>73</th>\n",
       "      <td>Corpus Christi, Texas</td>\n",
       "      <td>770</td>\n",
       "      <td>0.857143</td>\n",
       "      <td>0.893333</td>\n",
       "      <td>0.822785</td>\n",
       "      <td>**</td>\n",
       "      <td>0.847222222</td>\n",
       "      <td>**</td>\n",
       "    </tr>\n",
       "    <tr>\n",
       "      <th>74</th>\n",
       "      <td>San Bernardino, Calif.</td>\n",
       "      <td>755</td>\n",
       "      <td>0.271523</td>\n",
       "      <td>0.263158</td>\n",
       "      <td>0.280000</td>\n",
       "      <td>**</td>\n",
       "      <td>0.274509804</td>\n",
       "      <td>**</td>\n",
       "    </tr>\n",
       "  </tbody>\n",
       "</table>\n",
       "</div>"
      ],
      "text/plain": [
       "                      city  police_force_size       all     white  non-white  \\\n",
       "72           Madison, Wis.                790  0.278481  0.246479   0.562500   \n",
       "73   Corpus Christi, Texas                770  0.857143  0.893333   0.822785   \n",
       "74  San Bernardino, Calif.                755  0.271523  0.263158   0.280000   \n",
       "\n",
       "   black     hispanic asian  \n",
       "72    **           **    **  \n",
       "73    **  0.847222222    **  \n",
       "74    **  0.274509804    **  "
      ]
     },
     "execution_count": 16,
     "metadata": {},
     "output_type": "execute_result"
    }
   ],
   "source": [
    "# Filter dataframe\n",
    "police_df[police_df.police_force_size < 800]"
   ]
  },
  {
   "cell_type": "code",
   "execution_count": 17,
   "metadata": {},
   "outputs": [
    {
     "data": {
      "text/html": [
       "<div>\n",
       "<style scoped>\n",
       "    .dataframe tbody tr th:only-of-type {\n",
       "        vertical-align: middle;\n",
       "    }\n",
       "\n",
       "    .dataframe tbody tr th {\n",
       "        vertical-align: top;\n",
       "    }\n",
       "\n",
       "    .dataframe thead th {\n",
       "        text-align: right;\n",
       "    }\n",
       "</style>\n",
       "<table border=\"1\" class=\"dataframe\">\n",
       "  <thead>\n",
       "    <tr style=\"text-align: right;\">\n",
       "      <th></th>\n",
       "      <th>city</th>\n",
       "      <th>police_force_size</th>\n",
       "      <th>all</th>\n",
       "      <th>white</th>\n",
       "      <th>non-white</th>\n",
       "      <th>black</th>\n",
       "      <th>hispanic</th>\n",
       "      <th>asian</th>\n",
       "    </tr>\n",
       "  </thead>\n",
       "  <tbody>\n",
       "    <tr>\n",
       "      <th>72</th>\n",
       "      <td>Madison, Wis.</td>\n",
       "      <td>790</td>\n",
       "      <td>0.278481</td>\n",
       "      <td>0.246479</td>\n",
       "      <td>0.5625</td>\n",
       "      <td>**</td>\n",
       "      <td>**</td>\n",
       "      <td>**</td>\n",
       "    </tr>\n",
       "    <tr>\n",
       "      <th>74</th>\n",
       "      <td>San Bernardino, Calif.</td>\n",
       "      <td>755</td>\n",
       "      <td>0.271523</td>\n",
       "      <td>0.263158</td>\n",
       "      <td>0.2800</td>\n",
       "      <td>**</td>\n",
       "      <td>0.274509804</td>\n",
       "      <td>**</td>\n",
       "    </tr>\n",
       "  </tbody>\n",
       "</table>\n",
       "</div>"
      ],
      "text/plain": [
       "                      city  police_force_size       all     white  non-white  \\\n",
       "72           Madison, Wis.                790  0.278481  0.246479     0.5625   \n",
       "74  San Bernardino, Calif.                755  0.271523  0.263158     0.2800   \n",
       "\n",
       "   black     hispanic asian  \n",
       "72    **           **    **  \n",
       "74    **  0.274509804    **  "
      ]
     },
     "execution_count": 17,
     "metadata": {},
     "output_type": "execute_result"
    }
   ],
   "source": [
    "# Filter dataframe using multiple constraints\n",
    "police_df[(police_df.police_force_size < 800) & (police_df['all'] < 0.5)]"
   ]
  },
  {
   "cell_type": "code",
   "execution_count": 18,
   "metadata": {},
   "outputs": [
    {
     "data": {
      "text/html": [
       "<div>\n",
       "<style scoped>\n",
       "    .dataframe tbody tr th:only-of-type {\n",
       "        vertical-align: middle;\n",
       "    }\n",
       "\n",
       "    .dataframe tbody tr th {\n",
       "        vertical-align: top;\n",
       "    }\n",
       "\n",
       "    .dataframe thead th {\n",
       "        text-align: right;\n",
       "    }\n",
       "</style>\n",
       "<table border=\"1\" class=\"dataframe\">\n",
       "  <thead>\n",
       "    <tr style=\"text-align: right;\">\n",
       "      <th></th>\n",
       "      <th>city</th>\n",
       "      <th>police_force_size</th>\n",
       "      <th>all</th>\n",
       "      <th>white</th>\n",
       "      <th>non-white</th>\n",
       "      <th>black</th>\n",
       "      <th>hispanic</th>\n",
       "      <th>asian</th>\n",
       "      <th>new_column</th>\n",
       "    </tr>\n",
       "  </thead>\n",
       "  <tbody>\n",
       "    <tr>\n",
       "      <th>0</th>\n",
       "      <td>New York</td>\n",
       "      <td>32300</td>\n",
       "      <td>0.617957</td>\n",
       "      <td>0.446387</td>\n",
       "      <td>0.764419</td>\n",
       "      <td>0.770891365</td>\n",
       "      <td>0.762860728</td>\n",
       "      <td>0.749235474</td>\n",
       "      <td>5</td>\n",
       "    </tr>\n",
       "    <tr>\n",
       "      <th>1</th>\n",
       "      <td>Chicago</td>\n",
       "      <td>12120</td>\n",
       "      <td>0.875000</td>\n",
       "      <td>0.871963</td>\n",
       "      <td>0.877400</td>\n",
       "      <td>0.89740566</td>\n",
       "      <td>0.83982684</td>\n",
       "      <td>0.966666667</td>\n",
       "      <td>5</td>\n",
       "    </tr>\n",
       "    <tr>\n",
       "      <th>2</th>\n",
       "      <td>Los Angeles</td>\n",
       "      <td>10100</td>\n",
       "      <td>0.228218</td>\n",
       "      <td>0.152778</td>\n",
       "      <td>0.263848</td>\n",
       "      <td>0.387387387</td>\n",
       "      <td>0.217679558</td>\n",
       "      <td>0.305263158</td>\n",
       "      <td>5</td>\n",
       "    </tr>\n",
       "  </tbody>\n",
       "</table>\n",
       "</div>"
      ],
      "text/plain": [
       "          city  police_force_size       all     white  non-white        black  \\\n",
       "0     New York              32300  0.617957  0.446387   0.764419  0.770891365   \n",
       "1      Chicago              12120  0.875000  0.871963   0.877400   0.89740566   \n",
       "2  Los Angeles              10100  0.228218  0.152778   0.263848  0.387387387   \n",
       "\n",
       "      hispanic        asian  new_column  \n",
       "0  0.762860728  0.749235474           5  \n",
       "1   0.83982684  0.966666667           5  \n",
       "2  0.217679558  0.305263158           5  "
      ]
     },
     "execution_count": 18,
     "metadata": {},
     "output_type": "execute_result"
    }
   ],
   "source": [
    "# Add a new column\n",
    "police_df['new_column'] = 5\n",
    "police_df.head(3)"
   ]
  },
  {
   "cell_type": "code",
   "execution_count": 19,
   "metadata": {},
   "outputs": [
    {
     "data": {
      "text/html": [
       "<div>\n",
       "<style scoped>\n",
       "    .dataframe tbody tr th:only-of-type {\n",
       "        vertical-align: middle;\n",
       "    }\n",
       "\n",
       "    .dataframe tbody tr th {\n",
       "        vertical-align: top;\n",
       "    }\n",
       "\n",
       "    .dataframe thead th {\n",
       "        text-align: right;\n",
       "    }\n",
       "</style>\n",
       "<table border=\"1\" class=\"dataframe\">\n",
       "  <thead>\n",
       "    <tr style=\"text-align: right;\">\n",
       "      <th></th>\n",
       "      <th>city</th>\n",
       "      <th>police_force_size</th>\n",
       "      <th>all</th>\n",
       "      <th>white</th>\n",
       "      <th>non-white</th>\n",
       "      <th>black</th>\n",
       "      <th>hispanic</th>\n",
       "      <th>asian</th>\n",
       "      <th>new_column</th>\n",
       "      <th>big_police_force</th>\n",
       "    </tr>\n",
       "  </thead>\n",
       "  <tbody>\n",
       "    <tr>\n",
       "      <th>67</th>\n",
       "      <td>Albany, N.Y.</td>\n",
       "      <td>890</td>\n",
       "      <td>0.185393</td>\n",
       "      <td>0.160256</td>\n",
       "      <td>0.363636</td>\n",
       "      <td>**</td>\n",
       "      <td>**</td>\n",
       "      <td>**</td>\n",
       "      <td>5</td>\n",
       "      <td>False</td>\n",
       "    </tr>\n",
       "    <tr>\n",
       "      <th>46</th>\n",
       "      <td>Albuquerque, N.M.</td>\n",
       "      <td>1340</td>\n",
       "      <td>0.615672</td>\n",
       "      <td>0.629630</td>\n",
       "      <td>0.601504</td>\n",
       "      <td>**</td>\n",
       "      <td>0.566371681</td>\n",
       "      <td>**</td>\n",
       "      <td>5</td>\n",
       "      <td>False</td>\n",
       "    </tr>\n",
       "    <tr>\n",
       "      <th>44</th>\n",
       "      <td>Arlington, Va.</td>\n",
       "      <td>1360</td>\n",
       "      <td>0.202206</td>\n",
       "      <td>0.222222</td>\n",
       "      <td>0.179688</td>\n",
       "      <td>0.16</td>\n",
       "      <td>**</td>\n",
       "      <td>**</td>\n",
       "      <td>5</td>\n",
       "      <td>False</td>\n",
       "    </tr>\n",
       "    <tr>\n",
       "      <th>12</th>\n",
       "      <td>Atlanta</td>\n",
       "      <td>2950</td>\n",
       "      <td>0.137288</td>\n",
       "      <td>0.186275</td>\n",
       "      <td>0.111399</td>\n",
       "      <td>0.101983003</td>\n",
       "      <td>**</td>\n",
       "      <td>**</td>\n",
       "      <td>5</td>\n",
       "      <td>True</td>\n",
       "    </tr>\n",
       "    <tr>\n",
       "      <th>22</th>\n",
       "      <td>Austin, Texas</td>\n",
       "      <td>1985</td>\n",
       "      <td>0.294710</td>\n",
       "      <td>0.194690</td>\n",
       "      <td>0.426901</td>\n",
       "      <td>0.25</td>\n",
       "      <td>0.453846154</td>\n",
       "      <td>**</td>\n",
       "      <td>5</td>\n",
       "      <td>True</td>\n",
       "    </tr>\n",
       "  </tbody>\n",
       "</table>\n",
       "</div>"
      ],
      "text/plain": [
       "                 city  police_force_size       all     white  non-white  \\\n",
       "67       Albany, N.Y.                890  0.185393  0.160256   0.363636   \n",
       "46  Albuquerque, N.M.               1340  0.615672  0.629630   0.601504   \n",
       "44     Arlington, Va.               1360  0.202206  0.222222   0.179688   \n",
       "12            Atlanta               2950  0.137288  0.186275   0.111399   \n",
       "22      Austin, Texas               1985  0.294710  0.194690   0.426901   \n",
       "\n",
       "          black     hispanic asian  new_column  big_police_force  \n",
       "67           **           **    **           5             False  \n",
       "46           **  0.566371681    **           5             False  \n",
       "44         0.16           **    **           5             False  \n",
       "12  0.101983003           **    **           5              True  \n",
       "22         0.25  0.453846154    **           5              True  "
      ]
     },
     "execution_count": 19,
     "metadata": {},
     "output_type": "execute_result"
    }
   ],
   "source": [
    "# Add a new column based on data from another column (lambda functions are simple, one-line functions)\n",
    "police_df['big_police_force'] = police_df['police_force_size'].apply(lambda x: x > 1500)\n",
    "police_df.sort_values(by=['city']).head()"
   ]
  },
  {
   "cell_type": "code",
   "execution_count": 20,
   "metadata": {},
   "outputs": [
    {
     "data": {
      "text/html": [
       "<div>\n",
       "<style scoped>\n",
       "    .dataframe tbody tr th:only-of-type {\n",
       "        vertical-align: middle;\n",
       "    }\n",
       "\n",
       "    .dataframe tbody tr th {\n",
       "        vertical-align: top;\n",
       "    }\n",
       "\n",
       "    .dataframe thead th {\n",
       "        text-align: right;\n",
       "    }\n",
       "</style>\n",
       "<table border=\"1\" class=\"dataframe\">\n",
       "  <thead>\n",
       "    <tr style=\"text-align: right;\">\n",
       "      <th></th>\n",
       "      <th>city</th>\n",
       "      <th>police_force_size</th>\n",
       "      <th>all</th>\n",
       "      <th>white</th>\n",
       "      <th>non-white</th>\n",
       "      <th>black</th>\n",
       "      <th>hispanic</th>\n",
       "      <th>asian</th>\n",
       "      <th>new_column</th>\n",
       "      <th>big_police_force</th>\n",
       "      <th>rank</th>\n",
       "      <th>state</th>\n",
       "      <th>population</th>\n",
       "      <th>2000-2013 growth</th>\n",
       "    </tr>\n",
       "  </thead>\n",
       "  <tbody>\n",
       "    <tr>\n",
       "      <th>0</th>\n",
       "      <td>New York</td>\n",
       "      <td>32300</td>\n",
       "      <td>0.617957</td>\n",
       "      <td>0.446387</td>\n",
       "      <td>0.764419</td>\n",
       "      <td>0.770891365</td>\n",
       "      <td>0.762860728</td>\n",
       "      <td>0.749235474</td>\n",
       "      <td>5</td>\n",
       "      <td>True</td>\n",
       "      <td>1</td>\n",
       "      <td>New York</td>\n",
       "      <td>8405837</td>\n",
       "      <td>4.8%</td>\n",
       "    </tr>\n",
       "    <tr>\n",
       "      <th>1</th>\n",
       "      <td>Chicago</td>\n",
       "      <td>12120</td>\n",
       "      <td>0.875000</td>\n",
       "      <td>0.871963</td>\n",
       "      <td>0.877400</td>\n",
       "      <td>0.89740566</td>\n",
       "      <td>0.83982684</td>\n",
       "      <td>0.966666667</td>\n",
       "      <td>5</td>\n",
       "      <td>True</td>\n",
       "      <td>3</td>\n",
       "      <td>Illinois</td>\n",
       "      <td>2718782</td>\n",
       "      <td>-6.1%</td>\n",
       "    </tr>\n",
       "    <tr>\n",
       "      <th>2</th>\n",
       "      <td>Los Angeles</td>\n",
       "      <td>10100</td>\n",
       "      <td>0.228218</td>\n",
       "      <td>0.152778</td>\n",
       "      <td>0.263848</td>\n",
       "      <td>0.387387387</td>\n",
       "      <td>0.217679558</td>\n",
       "      <td>0.305263158</td>\n",
       "      <td>5</td>\n",
       "      <td>True</td>\n",
       "      <td>2</td>\n",
       "      <td>California</td>\n",
       "      <td>3884307</td>\n",
       "      <td>4.8%</td>\n",
       "    </tr>\n",
       "    <tr>\n",
       "      <th>3</th>\n",
       "      <td>Washington</td>\n",
       "      <td>9340</td>\n",
       "      <td>0.115632</td>\n",
       "      <td>0.056774</td>\n",
       "      <td>0.157365</td>\n",
       "      <td>0.170189099</td>\n",
       "      <td>0.08988764</td>\n",
       "      <td>0.230769231</td>\n",
       "      <td>5</td>\n",
       "      <td>True</td>\n",
       "      <td>23</td>\n",
       "      <td>District of Columbia</td>\n",
       "      <td>646449</td>\n",
       "      <td>13.0%</td>\n",
       "    </tr>\n",
       "    <tr>\n",
       "      <th>4</th>\n",
       "      <td>Houston</td>\n",
       "      <td>7700</td>\n",
       "      <td>0.292208</td>\n",
       "      <td>0.173735</td>\n",
       "      <td>0.399258</td>\n",
       "      <td>0.36637931</td>\n",
       "      <td>0.457142857</td>\n",
       "      <td>0.408163265</td>\n",
       "      <td>5</td>\n",
       "      <td>True</td>\n",
       "      <td>4</td>\n",
       "      <td>Texas</td>\n",
       "      <td>2195914</td>\n",
       "      <td>11.0%</td>\n",
       "    </tr>\n",
       "  </tbody>\n",
       "</table>\n",
       "</div>"
      ],
      "text/plain": [
       "          city  police_force_size       all     white  non-white        black  \\\n",
       "0     New York              32300  0.617957  0.446387   0.764419  0.770891365   \n",
       "1      Chicago              12120  0.875000  0.871963   0.877400   0.89740566   \n",
       "2  Los Angeles              10100  0.228218  0.152778   0.263848  0.387387387   \n",
       "3   Washington               9340  0.115632  0.056774   0.157365  0.170189099   \n",
       "4      Houston               7700  0.292208  0.173735   0.399258   0.36637931   \n",
       "\n",
       "      hispanic        asian  new_column  big_police_force rank  \\\n",
       "0  0.762860728  0.749235474           5              True    1   \n",
       "1   0.83982684  0.966666667           5              True    3   \n",
       "2  0.217679558  0.305263158           5              True    2   \n",
       "3   0.08988764  0.230769231           5              True   23   \n",
       "4  0.457142857  0.408163265           5              True    4   \n",
       "\n",
       "                  state population 2000-2013 growth  \n",
       "0              New York    8405837             4.8%  \n",
       "1              Illinois    2718782            -6.1%  \n",
       "2            California    3884307             4.8%  \n",
       "3  District of Columbia     646449            13.0%  \n",
       "4                 Texas    2195914            11.0%  "
      ]
     },
     "execution_count": 20,
     "metadata": {},
     "output_type": "execute_result"
    }
   ],
   "source": [
    "# Join two data frames using merge (\".join()\" is also a function, but I like merge)\n",
    "police_city_df = police_df.merge(city_df, on='city', how='left')\n",
    "police_city_df.head()"
   ]
  },
  {
   "cell_type": "code",
   "execution_count": 21,
   "metadata": {},
   "outputs": [
    {
     "data": {
      "text/html": [
       "<div>\n",
       "<style scoped>\n",
       "    .dataframe tbody tr th:only-of-type {\n",
       "        vertical-align: middle;\n",
       "    }\n",
       "\n",
       "    .dataframe tbody tr th {\n",
       "        vertical-align: top;\n",
       "    }\n",
       "\n",
       "    .dataframe thead th {\n",
       "        text-align: right;\n",
       "    }\n",
       "</style>\n",
       "<table border=\"1\" class=\"dataframe\">\n",
       "  <thead>\n",
       "    <tr style=\"text-align: right;\">\n",
       "      <th></th>\n",
       "      <th>city</th>\n",
       "      <th>police_force_size</th>\n",
       "      <th>all</th>\n",
       "      <th>white</th>\n",
       "      <th>non-white</th>\n",
       "      <th>black</th>\n",
       "      <th>hispanic</th>\n",
       "      <th>asian</th>\n",
       "      <th>new_column</th>\n",
       "      <th>big_police_force</th>\n",
       "      <th>rank</th>\n",
       "      <th>state</th>\n",
       "      <th>population</th>\n",
       "      <th>2000-2013 growth</th>\n",
       "      <th>growth</th>\n",
       "    </tr>\n",
       "  </thead>\n",
       "  <tbody>\n",
       "    <tr>\n",
       "      <th>0</th>\n",
       "      <td>New York</td>\n",
       "      <td>32300</td>\n",
       "      <td>0.617957</td>\n",
       "      <td>0.446387</td>\n",
       "      <td>0.764419</td>\n",
       "      <td>0.770891365</td>\n",
       "      <td>0.762860728</td>\n",
       "      <td>0.749235474</td>\n",
       "      <td>5</td>\n",
       "      <td>True</td>\n",
       "      <td>1</td>\n",
       "      <td>New York</td>\n",
       "      <td>8405837</td>\n",
       "      <td>4.8%</td>\n",
       "      <td>4.8</td>\n",
       "    </tr>\n",
       "    <tr>\n",
       "      <th>1</th>\n",
       "      <td>Chicago</td>\n",
       "      <td>12120</td>\n",
       "      <td>0.875000</td>\n",
       "      <td>0.871963</td>\n",
       "      <td>0.877400</td>\n",
       "      <td>0.89740566</td>\n",
       "      <td>0.83982684</td>\n",
       "      <td>0.966666667</td>\n",
       "      <td>5</td>\n",
       "      <td>True</td>\n",
       "      <td>3</td>\n",
       "      <td>Illinois</td>\n",
       "      <td>2718782</td>\n",
       "      <td>-6.1%</td>\n",
       "      <td>-6.1</td>\n",
       "    </tr>\n",
       "    <tr>\n",
       "      <th>2</th>\n",
       "      <td>Los Angeles</td>\n",
       "      <td>10100</td>\n",
       "      <td>0.228218</td>\n",
       "      <td>0.152778</td>\n",
       "      <td>0.263848</td>\n",
       "      <td>0.387387387</td>\n",
       "      <td>0.217679558</td>\n",
       "      <td>0.305263158</td>\n",
       "      <td>5</td>\n",
       "      <td>True</td>\n",
       "      <td>2</td>\n",
       "      <td>California</td>\n",
       "      <td>3884307</td>\n",
       "      <td>4.8%</td>\n",
       "      <td>4.8</td>\n",
       "    </tr>\n",
       "    <tr>\n",
       "      <th>3</th>\n",
       "      <td>Washington</td>\n",
       "      <td>9340</td>\n",
       "      <td>0.115632</td>\n",
       "      <td>0.056774</td>\n",
       "      <td>0.157365</td>\n",
       "      <td>0.170189099</td>\n",
       "      <td>0.08988764</td>\n",
       "      <td>0.230769231</td>\n",
       "      <td>5</td>\n",
       "      <td>True</td>\n",
       "      <td>23</td>\n",
       "      <td>District of Columbia</td>\n",
       "      <td>646449</td>\n",
       "      <td>13.0%</td>\n",
       "      <td>13.0</td>\n",
       "    </tr>\n",
       "    <tr>\n",
       "      <th>4</th>\n",
       "      <td>Houston</td>\n",
       "      <td>7700</td>\n",
       "      <td>0.292208</td>\n",
       "      <td>0.173735</td>\n",
       "      <td>0.399258</td>\n",
       "      <td>0.36637931</td>\n",
       "      <td>0.457142857</td>\n",
       "      <td>0.408163265</td>\n",
       "      <td>5</td>\n",
       "      <td>True</td>\n",
       "      <td>4</td>\n",
       "      <td>Texas</td>\n",
       "      <td>2195914</td>\n",
       "      <td>11.0%</td>\n",
       "      <td>11.0</td>\n",
       "    </tr>\n",
       "  </tbody>\n",
       "</table>\n",
       "</div>"
      ],
      "text/plain": [
       "          city  police_force_size       all     white  non-white        black  \\\n",
       "0     New York              32300  0.617957  0.446387   0.764419  0.770891365   \n",
       "1      Chicago              12120  0.875000  0.871963   0.877400   0.89740566   \n",
       "2  Los Angeles              10100  0.228218  0.152778   0.263848  0.387387387   \n",
       "3   Washington               9340  0.115632  0.056774   0.157365  0.170189099   \n",
       "4      Houston               7700  0.292208  0.173735   0.399258   0.36637931   \n",
       "\n",
       "      hispanic        asian  new_column  big_police_force rank  \\\n",
       "0  0.762860728  0.749235474           5              True    1   \n",
       "1   0.83982684  0.966666667           5              True    3   \n",
       "2  0.217679558  0.305263158           5              True    2   \n",
       "3   0.08988764  0.230769231           5              True   23   \n",
       "4  0.457142857  0.408163265           5              True    4   \n",
       "\n",
       "                  state population 2000-2013 growth  growth  \n",
       "0              New York    8405837             4.8%     4.8  \n",
       "1              Illinois    2718782            -6.1%    -6.1  \n",
       "2            California    3884307             4.8%     4.8  \n",
       "3  District of Columbia     646449            13.0%    13.0  \n",
       "4                 Texas    2195914            11.0%    11.0  "
      ]
     },
     "execution_count": 21,
     "metadata": {},
     "output_type": "execute_result"
    }
   ],
   "source": [
    "police_city_df['growth'] = police_city_df['2000-2013 growth'].apply(lambda x: float(str(x).rstrip('%')))\n",
    "police_city_df.head()"
   ]
  },
  {
   "cell_type": "code",
   "execution_count": 26,
   "metadata": {},
   "outputs": [
    {
     "data": {
      "text/plain": [
       "<matplotlib.axes._subplots.AxesSubplot at 0x2978131f5f8>"
      ]
     },
     "execution_count": 26,
     "metadata": {},
     "output_type": "execute_result"
    },
    {
     "data": {
      "image/png": "[encoded data removed]",
      "text/plain": [
       "<Figure size 432x288 with 1 Axes>"
      ]
     },
     "metadata": {
      "needs_background": "light"
     },
     "output_type": "display_data"
    }
   ],
   "source": [
    "# Plot city growth vs fraction of officers that live in city as a scatter plot\n",
    "police_city_df.plot.scatter(x='all', y='growth')"
   ]
  },
  {
   "cell_type": "code",
   "execution_count": 23,
   "metadata": {
    "collapsed": false
   },
   "outputs": [
    {
     "name": "stdout",
     "output_type": "stream",
     "text": [
      "                    city  police_force_size       all     white  non-white  \\\n",
      "36  Oklahoma City, Okla.               1500  0.596667  0.547325   0.807018   \n",
      "37               Seattle               1445  0.117647  0.115578   0.122222   \n",
      "38      Kansas City, Mo.               1440  0.777778  0.768000   0.842105   \n",
      "39      Nashville, Tenn.               1440  0.618056  0.437158   0.933333   \n",
      "40         Laredo, Texas               1435  0.937282  0.962963   0.931330   \n",
      "\n",
      "          black     hispanic asian  new_column  big_police_force  \n",
      "36   0.62962963           **    **           5             False  \n",
      "37       0.1875            0    **           5             False  \n",
      "38            1           **    **           5             False  \n",
      "39  0.947368421           **    **           5             False  \n",
      "40           **  0.931330472    **           5             False  \n",
      "          city  police_force_size       all     white  non-white        black  \\\n",
      "0     New York              32300  0.617957  0.446387   0.764419  0.770891365   \n",
      "1      Chicago              12120  0.875000  0.871963   0.877400   0.89740566   \n",
      "2  Los Angeles              10100  0.228218  0.152778   0.263848  0.387387387   \n",
      "3   Washington               9340  0.115632  0.056774   0.157365  0.170189099   \n",
      "4      Houston               7700  0.292208  0.173735   0.399258   0.36637931   \n",
      "\n",
      "      hispanic        asian  new_column  big_police_force  \n",
      "0  0.762860728  0.749235474           5              True  \n",
      "1   0.83982684  0.966666667           5              True  \n",
      "2  0.217679558  0.305263158           5              True  \n",
      "3   0.08988764  0.230769231           5              True  \n",
      "4  0.457142857  0.408163265           5              True  \n"
     ]
    }
   ],
   "source": [
    "# Iterate over sub-data frames, grouped by the \"big_police_force\" variable\n",
    "for value, sub_df in police_df.groupby('big_police_force'):\n",
    "    print(sub_df.head())"
   ]
  },
  {
   "cell_type": "markdown",
   "metadata": {},
   "source": [
    "\"groupby()\" can be used to summarize and count"
   ]
  },
  {
   "cell_type": "code",
   "execution_count": 24,
   "metadata": {},
   "outputs": [
    {
     "data": {
      "text/plain": [
       "state\n",
       "Texas           3\n",
       "California      3\n",
       "Pennsylvania    2\n",
       "Ohio            2\n",
       "Wisconsin       1\n",
       "dtype: int64"
      ]
     },
     "execution_count": 24,
     "metadata": {},
     "output_type": "execute_result"
    }
   ],
   "source": [
    "police_city_df.groupby('state').size().sort_values(ascending=False).head()"
   ]
  },
  {
   "cell_type": "code",
   "execution_count": 25,
   "metadata": {
    "collapsed": true
   },
   "outputs": [],
   "source": [
    "# Write dataframe to file\n",
    "police_city_df.to_csv('police_city_pandas_df.csv', sep=',', index=False)"
   ]
  },
  {
   "cell_type": "code",
   "execution_count": null,
   "metadata": {
    "collapsed": true
   },
   "outputs": [],
   "source": []
  }
 ],
 "metadata": {
  "kernelspec": {
   "display_name": "Python 3",
   "language": "python",
   "name": "python3"
  },
  "language_info": {
   "codemirror_mode": {
    "name": "ipython",
    "version": 3
   },
   "file_extension": ".py",
   "mimetype": "text/x-python",
   "name": "python",
   "nbconvert_exporter": "python",
   "pygments_lexer": "ipython3",
   "version": "3.7.3"
  }
 },
 "nbformat": 4,
 "nbformat_minor": 2
}
