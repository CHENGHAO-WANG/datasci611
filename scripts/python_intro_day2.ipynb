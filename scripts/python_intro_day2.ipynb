{
 "cells": [
  {
   "cell_type": "code",
   "execution_count": 7,
   "metadata": {
    "collapsed": true
   },
   "outputs": [],
   "source": [
    "import pandas as pd\n",
    "import numpy as np"
   ]
  },
  {
   "cell_type": "code",
   "execution_count": 8,
   "metadata": {
    "collapsed": true
   },
   "outputs": [],
   "source": [
    "df = pd.read_csv('https://raw.githubusercontent.com/fivethirtyeight/data/master/police-locals/police-locals.csv', sep=',')"
   ]
  },
  {
   "cell_type": "code",
   "execution_count": 9,
   "metadata": {
    "collapsed": false
   },
   "outputs": [
    {
     "data": {
      "text/html": [
       "<div>\n",
       "<table border=\"1\" class=\"dataframe\">\n",
       "  <thead>\n",
       "    <tr style=\"text-align: right;\">\n",
       "      <th></th>\n",
       "      <th>city</th>\n",
       "      <th>police_force_size</th>\n",
       "      <th>all</th>\n",
       "      <th>white</th>\n",
       "      <th>non-white</th>\n",
       "      <th>black</th>\n",
       "      <th>hispanic</th>\n",
       "      <th>asian</th>\n",
       "    </tr>\n",
       "  </thead>\n",
       "  <tbody>\n",
       "    <tr>\n",
       "      <th>0</th>\n",
       "      <td>New York</td>\n",
       "      <td>32300</td>\n",
       "      <td>0.617957</td>\n",
       "      <td>0.446387</td>\n",
       "      <td>0.764419</td>\n",
       "      <td>0.770891365</td>\n",
       "      <td>0.762860728</td>\n",
       "      <td>0.749235474</td>\n",
       "    </tr>\n",
       "    <tr>\n",
       "      <th>1</th>\n",
       "      <td>Chicago</td>\n",
       "      <td>12120</td>\n",
       "      <td>0.875000</td>\n",
       "      <td>0.871963</td>\n",
       "      <td>0.877400</td>\n",
       "      <td>0.89740566</td>\n",
       "      <td>0.83982684</td>\n",
       "      <td>0.966666667</td>\n",
       "    </tr>\n",
       "    <tr>\n",
       "      <th>2</th>\n",
       "      <td>Los Angeles</td>\n",
       "      <td>10100</td>\n",
       "      <td>0.228218</td>\n",
       "      <td>0.152778</td>\n",
       "      <td>0.263848</td>\n",
       "      <td>0.387387387</td>\n",
       "      <td>0.217679558</td>\n",
       "      <td>0.305263158</td>\n",
       "    </tr>\n",
       "    <tr>\n",
       "      <th>3</th>\n",
       "      <td>Washington</td>\n",
       "      <td>9340</td>\n",
       "      <td>0.115632</td>\n",
       "      <td>0.056774</td>\n",
       "      <td>0.157365</td>\n",
       "      <td>0.170189099</td>\n",
       "      <td>0.08988764</td>\n",
       "      <td>0.230769231</td>\n",
       "    </tr>\n",
       "    <tr>\n",
       "      <th>4</th>\n",
       "      <td>Houston</td>\n",
       "      <td>7700</td>\n",
       "      <td>0.292208</td>\n",
       "      <td>0.173735</td>\n",
       "      <td>0.399258</td>\n",
       "      <td>0.36637931</td>\n",
       "      <td>0.457142857</td>\n",
       "      <td>0.408163265</td>\n",
       "    </tr>\n",
       "  </tbody>\n",
       "</table>\n",
       "</div>"
      ],
      "text/plain": [
       "          city  police_force_size       all     white  non-white        black  \\\n",
       "0     New York              32300  0.617957  0.446387   0.764419  0.770891365   \n",
       "1      Chicago              12120  0.875000  0.871963   0.877400   0.89740566   \n",
       "2  Los Angeles              10100  0.228218  0.152778   0.263848  0.387387387   \n",
       "3   Washington               9340  0.115632  0.056774   0.157365  0.170189099   \n",
       "4      Houston               7700  0.292208  0.173735   0.399258   0.36637931   \n",
       "\n",
       "      hispanic        asian  \n",
       "0  0.762860728  0.749235474  \n",
       "1   0.83982684  0.966666667  \n",
       "2  0.217679558  0.305263158  \n",
       "3   0.08988764  0.230769231  \n",
       "4  0.457142857  0.408163265  "
      ]
     },
     "execution_count": 9,
     "metadata": {},
     "output_type": "execute_result"
    }
   ],
   "source": [
    "df.head()"
   ]
  },
  {
   "cell_type": "code",
   "execution_count": 17,
   "metadata": {
    "collapsed": true
   },
   "outputs": [],
   "source": [
    "df['big_police_force'] = df['police_force_size'].apply(lambda x: x > 5000)"
   ]
  },
  {
   "cell_type": "code",
   "execution_count": 18,
   "metadata": {
    "collapsed": false
   },
   "outputs": [
    {
     "data": {
      "text/html": [
       "<div>\n",
       "<table border=\"1\" class=\"dataframe\">\n",
       "  <thead>\n",
       "    <tr style=\"text-align: right;\">\n",
       "      <th></th>\n",
       "      <th>city</th>\n",
       "      <th>police_force_size</th>\n",
       "      <th>all</th>\n",
       "      <th>white</th>\n",
       "      <th>non-white</th>\n",
       "      <th>black</th>\n",
       "      <th>hispanic</th>\n",
       "      <th>asian</th>\n",
       "      <th>big_police_force</th>\n",
       "    </tr>\n",
       "  </thead>\n",
       "  <tbody>\n",
       "    <tr>\n",
       "      <th>0</th>\n",
       "      <td>New York</td>\n",
       "      <td>32300</td>\n",
       "      <td>0.617957</td>\n",
       "      <td>0.446387</td>\n",
       "      <td>0.764419</td>\n",
       "      <td>0.770891365</td>\n",
       "      <td>0.762860728</td>\n",
       "      <td>0.749235474</td>\n",
       "      <td>True</td>\n",
       "    </tr>\n",
       "    <tr>\n",
       "      <th>1</th>\n",
       "      <td>Chicago</td>\n",
       "      <td>12120</td>\n",
       "      <td>0.875000</td>\n",
       "      <td>0.871963</td>\n",
       "      <td>0.877400</td>\n",
       "      <td>0.89740566</td>\n",
       "      <td>0.83982684</td>\n",
       "      <td>0.966666667</td>\n",
       "      <td>True</td>\n",
       "    </tr>\n",
       "    <tr>\n",
       "      <th>2</th>\n",
       "      <td>Los Angeles</td>\n",
       "      <td>10100</td>\n",
       "      <td>0.228218</td>\n",
       "      <td>0.152778</td>\n",
       "      <td>0.263848</td>\n",
       "      <td>0.387387387</td>\n",
       "      <td>0.217679558</td>\n",
       "      <td>0.305263158</td>\n",
       "      <td>True</td>\n",
       "    </tr>\n",
       "    <tr>\n",
       "      <th>3</th>\n",
       "      <td>Washington</td>\n",
       "      <td>9340</td>\n",
       "      <td>0.115632</td>\n",
       "      <td>0.056774</td>\n",
       "      <td>0.157365</td>\n",
       "      <td>0.170189099</td>\n",
       "      <td>0.08988764</td>\n",
       "      <td>0.230769231</td>\n",
       "      <td>True</td>\n",
       "    </tr>\n",
       "    <tr>\n",
       "      <th>4</th>\n",
       "      <td>Houston</td>\n",
       "      <td>7700</td>\n",
       "      <td>0.292208</td>\n",
       "      <td>0.173735</td>\n",
       "      <td>0.399258</td>\n",
       "      <td>0.36637931</td>\n",
       "      <td>0.457142857</td>\n",
       "      <td>0.408163265</td>\n",
       "      <td>True</td>\n",
       "    </tr>\n",
       "  </tbody>\n",
       "</table>\n",
       "</div>"
      ],
      "text/plain": [
       "          city  police_force_size       all     white  non-white        black  \\\n",
       "0     New York              32300  0.617957  0.446387   0.764419  0.770891365   \n",
       "1      Chicago              12120  0.875000  0.871963   0.877400   0.89740566   \n",
       "2  Los Angeles              10100  0.228218  0.152778   0.263848  0.387387387   \n",
       "3   Washington               9340  0.115632  0.056774   0.157365  0.170189099   \n",
       "4      Houston               7700  0.292208  0.173735   0.399258   0.36637931   \n",
       "\n",
       "      hispanic        asian big_police_force  \n",
       "0  0.762860728  0.749235474             True  \n",
       "1   0.83982684  0.966666667             True  \n",
       "2  0.217679558  0.305263158             True  \n",
       "3   0.08988764  0.230769231             True  \n",
       "4  0.457142857  0.408163265             True  "
      ]
     },
     "execution_count": 18,
     "metadata": {},
     "output_type": "execute_result"
    }
   ],
   "source": [
    "df.head()"
   ]
  },
  {
   "cell_type": "code",
   "execution_count": 20,
   "metadata": {
    "collapsed": false
   },
   "outputs": [
    {
     "name": "stdout",
     "output_type": "stream",
     "text": [
      "             city  police_force_size       all     white  non-white  \\\n",
      "6         Phoenix               4475  0.311732  0.270802   0.427350   \n",
      "7       San Diego               4460  0.362108  0.372984   0.348485   \n",
      "8          Dallas               3605  0.191401  0.171504   0.213450   \n",
      "9         Detroit               3265  0.370597  0.081967   0.542787   \n",
      "10  San Francisco               3020  0.316225  0.259494   0.378472   \n",
      "\n",
      "          black     hispanic        asian big_police_force  \n",
      "6    0.52173913  0.427710843           **            False  \n",
      "7   0.538461538  0.297794118     0.515625            False  \n",
      "8   0.214634146  0.256880734           **            False  \n",
      "9         0.568  0.333333333           **            False  \n",
      "10  0.186046512  0.253333333  0.486111111            False  \n",
      "          city  police_force_size       all     white  non-white        black  \\\n",
      "0     New York              32300  0.617957  0.446387   0.764419  0.770891365   \n",
      "1      Chicago              12120  0.875000  0.871963   0.877400   0.89740566   \n",
      "2  Los Angeles              10100  0.228218  0.152778   0.263848  0.387387387   \n",
      "3   Washington               9340  0.115632  0.056774   0.157365  0.170189099   \n",
      "4      Houston               7700  0.292208  0.173735   0.399258   0.36637931   \n",
      "\n",
      "      hispanic        asian big_police_force  \n",
      "0  0.762860728  0.749235474             True  \n",
      "1   0.83982684  0.966666667             True  \n",
      "2  0.217679558  0.305263158             True  \n",
      "3   0.08988764  0.230769231             True  \n",
      "4  0.457142857  0.408163265             True  \n"
     ]
    }
   ],
   "source": [
    "for value, sub_df in df.groupby('big_police_force'):\n",
    "    print(sub_df.head())"
   ]
  },
  {
   "cell_type": "code",
   "execution_count": 21,
   "metadata": {
    "collapsed": true
   },
   "outputs": [],
   "source": [
    "df.to_csv('new_police_df.csv', sep=',')"
   ]
  },
  {
   "cell_type": "code",
   "execution_count": null,
   "metadata": {
    "collapsed": true
   },
   "outputs": [],
   "source": []
  }
 ],
 "metadata": {
  "kernelspec": {
   "display_name": "Python 3",
   "language": "python",
   "name": "python3"
  },
  "language_info": {
   "codemirror_mode": {
    "name": "ipython",
    "version": 3
   },
   "file_extension": ".py",
   "mimetype": "text/x-python",
   "name": "python",
   "nbconvert_exporter": "python",
   "pygments_lexer": "ipython3",
   "version": "3.6.0"
  }
 },
 "nbformat": 4,
 "nbformat_minor": 2
}
