{
 "cells": [
  {
   "cell_type": "markdown",
   "metadata": {},
   "source": [
    "### Load packages"
   ]
  },
  {
   "cell_type": "code",
   "execution_count": 1,
   "metadata": {},
   "outputs": [],
   "source": [
    "import pandas as pd\n",
    "import re\n",
    "from urllib.request import urlopen"
   ]
  },
  {
   "cell_type": "code",
   "execution_count": 2,
   "metadata": {},
   "outputs": [],
   "source": [
    "with urlopen('https://www.gutenberg.org/files/84/84-0.txt') as f:\n",
    "    frankenstein = f.read().decode('utf-8')"
   ]
  },
  {
   "cell_type": "code",
   "execution_count": 3,
   "metadata": {},
   "outputs": [
    {
     "data": {
      "text/plain": [
       "\"\\ufeff\\r\\nProject Gutenberg's Frankenstein, by Mary Wollstonecraft (Godwin) Shelley\\r\\n\\r\\nThis eBook is for th\""
      ]
     },
     "execution_count": 3,
     "metadata": {},
     "output_type": "execute_result"
    }
   ],
   "source": [
    "frankenstein[:100]"
   ]
  },
  {
   "cell_type": "markdown",
   "metadata": {},
   "source": [
    "### Find words containing \"natural\" using a regular expression\n",
    "\n",
    "Find the words that contain \"natural\" as a substring, and count them."
   ]
  },
  {
   "cell_type": "code",
   "execution_count": 4,
   "metadata": {},
   "outputs": [],
   "source": [
    "match_list = re.findall(r'\\S+natural', frankenstein, re.IGNORECASE)"
   ]
  },
  {
   "cell_type": "raw",
   "metadata": {},
   "source": [
    "match_list"
   ]
  },
  {
   "cell_type": "code",
   "execution_count": 5,
   "metadata": {},
   "outputs": [
    {
     "data": {
      "text/html": [
       "<div>\n",
       "<style scoped>\n",
       "    .dataframe tbody tr th:only-of-type {\n",
       "        vertical-align: middle;\n",
       "    }\n",
       "\n",
       "    .dataframe tbody tr th {\n",
       "        vertical-align: top;\n",
       "    }\n",
       "\n",
       "    .dataframe thead th {\n",
       "        text-align: right;\n",
       "    }\n",
       "</style>\n",
       "<table border=\"1\" class=\"dataframe\">\n",
       "  <thead>\n",
       "    <tr style=\"text-align: right;\">\n",
       "      <th></th>\n",
       "      <th>words</th>\n",
       "    </tr>\n",
       "  </thead>\n",
       "  <tbody>\n",
       "    <tr>\n",
       "      <th>0</th>\n",
       "      <td>supernatural</td>\n",
       "    </tr>\n",
       "    <tr>\n",
       "      <th>1</th>\n",
       "      <td>supernatural</td>\n",
       "    </tr>\n",
       "    <tr>\n",
       "      <th>2</th>\n",
       "      <td>unnatural</td>\n",
       "    </tr>\n",
       "    <tr>\n",
       "      <th>3</th>\n",
       "      <td>unnatural</td>\n",
       "    </tr>\n",
       "    <tr>\n",
       "      <th>4</th>\n",
       "      <td>supernatural</td>\n",
       "    </tr>\n",
       "    <tr>\n",
       "      <th>5</th>\n",
       "      <td>unnatural</td>\n",
       "    </tr>\n",
       "    <tr>\n",
       "      <th>6</th>\n",
       "      <td>supernatural</td>\n",
       "    </tr>\n",
       "  </tbody>\n",
       "</table>\n",
       "</div>"
      ],
      "text/plain": [
       "          words\n",
       "0  supernatural\n",
       "1  supernatural\n",
       "2     unnatural\n",
       "3     unnatural\n",
       "4  supernatural\n",
       "5     unnatural\n",
       "6  supernatural"
      ]
     },
     "execution_count": 5,
     "metadata": {},
     "output_type": "execute_result"
    }
   ],
   "source": [
    "match_dictionary = {'words':match_list}\n",
    "match_df = pd.DataFrame(match_dictionary)\n",
    "match_df"
   ]
  },
  {
   "cell_type": "code",
   "execution_count": 6,
   "metadata": {},
   "outputs": [
    {
     "data": {
      "text/plain": [
       "words\n",
       "supernatural    4\n",
       "unnatural       3\n",
       "dtype: int64"
      ]
     },
     "execution_count": 6,
     "metadata": {},
     "output_type": "execute_result"
    }
   ],
   "source": [
    "match_df.groupby('words').size()"
   ]
  },
  {
   "cell_type": "markdown",
   "metadata": {},
   "source": [
    "### Find all ocurrences of Pribnow box in E. coli genome\n",
    "\n",
    "And determine empirically the frequency of three most variable bases in the Pribnow box"
   ]
  },
  {
   "cell_type": "raw",
   "metadata": {},
   "source": [
    "https://en.wikipedia.org/wiki/Pribnow_box\n",
    "\n",
    "T    A     T    A    A    T    X X X X X X X X X X [A|G] T G ...\n",
    "82%  89%   52%  59%  49%  89%"
   ]
  },
  {
   "cell_type": "code",
   "execution_count": 7,
   "metadata": {},
   "outputs": [],
   "source": [
    "with urlopen('https://raw.githubusercontent.com/biodatascience/datasci611/gh-pages/data/ecoli_k12.fasta') as f:\n",
    "    ecoli = f.read().decode('utf-8')"
   ]
  },
  {
   "cell_type": "code",
   "execution_count": 8,
   "metadata": {},
   "outputs": [],
   "source": [
    "pribnow_list = re.findall(r'TA...T.{8,12}?[AG]TG', ecoli)"
   ]
  },
  {
   "cell_type": "code",
   "execution_count": 9,
   "metadata": {},
   "outputs": [
    {
     "data": {
      "text/plain": [
       "5156"
      ]
     },
     "execution_count": 9,
     "metadata": {},
     "output_type": "execute_result"
    }
   ],
   "source": [
    "len(pribnow_list)"
   ]
  },
  {
   "cell_type": "code",
   "execution_count": 10,
   "metadata": {},
   "outputs": [
    {
     "data": {
      "text/html": [
       "<div>\n",
       "<style scoped>\n",
       "    .dataframe tbody tr th:only-of-type {\n",
       "        vertical-align: middle;\n",
       "    }\n",
       "\n",
       "    .dataframe tbody tr th {\n",
       "        vertical-align: top;\n",
       "    }\n",
       "\n",
       "    .dataframe thead th {\n",
       "        text-align: right;\n",
       "    }\n",
       "</style>\n",
       "<table border=\"1\" class=\"dataframe\">\n",
       "  <thead>\n",
       "    <tr style=\"text-align: right;\">\n",
       "      <th></th>\n",
       "      <th>T0</th>\n",
       "      <th>A1</th>\n",
       "      <th>T2</th>\n",
       "      <th>A3</th>\n",
       "      <th>A4</th>\n",
       "      <th>T5</th>\n",
       "      <th>spacer</th>\n",
       "    </tr>\n",
       "  </thead>\n",
       "  <tbody>\n",
       "    <tr>\n",
       "      <th>0</th>\n",
       "      <td>T</td>\n",
       "      <td>A</td>\n",
       "      <td>T</td>\n",
       "      <td>T</td>\n",
       "      <td>C</td>\n",
       "      <td>T</td>\n",
       "      <td>8</td>\n",
       "    </tr>\n",
       "    <tr>\n",
       "      <th>1</th>\n",
       "      <td>T</td>\n",
       "      <td>A</td>\n",
       "      <td>G</td>\n",
       "      <td>T</td>\n",
       "      <td>T</td>\n",
       "      <td>T</td>\n",
       "      <td>9</td>\n",
       "    </tr>\n",
       "    <tr>\n",
       "      <th>2</th>\n",
       "      <td>T</td>\n",
       "      <td>A</td>\n",
       "      <td>C</td>\n",
       "      <td>C</td>\n",
       "      <td>A</td>\n",
       "      <td>T</td>\n",
       "      <td>10</td>\n",
       "    </tr>\n",
       "    <tr>\n",
       "      <th>3</th>\n",
       "      <td>T</td>\n",
       "      <td>A</td>\n",
       "      <td>T</td>\n",
       "      <td>G</td>\n",
       "      <td>T</td>\n",
       "      <td>T</td>\n",
       "      <td>10</td>\n",
       "    </tr>\n",
       "    <tr>\n",
       "      <th>4</th>\n",
       "      <td>T</td>\n",
       "      <td>A</td>\n",
       "      <td>C</td>\n",
       "      <td>G</td>\n",
       "      <td>G</td>\n",
       "      <td>T</td>\n",
       "      <td>9</td>\n",
       "    </tr>\n",
       "  </tbody>\n",
       "</table>\n",
       "</div>"
      ],
      "text/plain": [
       "  T0 A1 T2 A3 A4 T5  spacer\n",
       "0  T  A  T  T  C  T       8\n",
       "1  T  A  G  T  T  T       9\n",
       "2  T  A  C  C  A  T      10\n",
       "3  T  A  T  G  T  T      10\n",
       "4  T  A  C  G  G  T       9"
      ]
     },
     "execution_count": 10,
     "metadata": {},
     "output_type": "execute_result"
    }
   ],
   "source": [
    "pribnow_dictionary = {}\n",
    "for i, base in enumerate(['T0', 'A1', 'T2', 'A3', 'A4', 'T5', 'spacer']):\n",
    "    if base != 'spacer':\n",
    "        pribnow_dictionary[base] = [x[i] for x in pribnow_list]\n",
    "    else:\n",
    "        pribnow_dictionary[base] = [len(x[6:-3]) for x in pribnow_list]\n",
    "pribnow_df = pd.DataFrame(pribnow_dictionary)\n",
    "pribnow_df.head()"
   ]
  },
  {
   "cell_type": "code",
   "execution_count": 11,
   "metadata": {},
   "outputs": [
    {
     "data": {
      "text/plain": [
       "'defgh'"
      ]
     },
     "execution_count": 11,
     "metadata": {},
     "output_type": "execute_result"
    }
   ],
   "source": [
    "# example string slicing\n",
    "a = 'abcdefghijk'\n",
    "a[3:-3]"
   ]
  },
  {
   "cell_type": "code",
   "execution_count": 12,
   "metadata": {},
   "outputs": [
    {
     "name": "stdout",
     "output_type": "stream",
     "text": [
      "Column T0:\n",
      "T0\n",
      "T    1.0\n",
      "dtype: float64\n",
      "\n",
      "\n",
      "Column A1:\n",
      "A1\n",
      "A    1.0\n",
      "dtype: float64\n",
      "\n",
      "\n",
      "Column T2:\n",
      "T2\n",
      "T    0.314973\n",
      "A    0.310318\n",
      "C    0.258728\n",
      "G    0.115981\n",
      "dtype: float64\n",
      "\n",
      "\n",
      "Column A3:\n",
      "A3\n",
      "C    0.283165\n",
      "T    0.273274\n",
      "G    0.232739\n",
      "A    0.210822\n",
      "dtype: float64\n",
      "\n",
      "\n",
      "Column A4:\n",
      "A4\n",
      "T    0.298487\n",
      "G    0.267649\n",
      "A    0.221490\n",
      "C    0.212374\n",
      "dtype: float64\n",
      "\n",
      "\n",
      "Column T5:\n",
      "T5\n",
      "T    1.0\n",
      "dtype: float64\n",
      "\n",
      "\n",
      "Column spacer:\n",
      "10.0\n",
      "\n",
      "\n"
     ]
    }
   ],
   "source": [
    "for c in pribnow_df.columns:\n",
    "    print(f'Column {c}:')\n",
    "    if c != 'spacer':\n",
    "        print(pribnow_df[[c]].groupby(c).size().sort_values(ascending=False)/pribnow_df.shape[0])\n",
    "    else:\n",
    "        print(pribnow_df[c].median())\n",
    "    print('\\n')"
   ]
  }
 ],
 "metadata": {
  "kernelspec": {
   "display_name": "Python 3",
   "language": "python",
   "name": "python3"
  },
  "language_info": {
   "codemirror_mode": {
    "name": "ipython",
    "version": 3
   },
   "file_extension": ".py",
   "mimetype": "text/x-python",
   "name": "python",
   "nbconvert_exporter": "python",
   "pygments_lexer": "ipython3",
   "version": "3.7.3"
  }
 },
 "nbformat": 4,
 "nbformat_minor": 2
}
